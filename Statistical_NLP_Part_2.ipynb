{
  "nbformat": 4,
  "nbformat_minor": 0,
  "metadata": {
    "colab": {
      "name": "Statistical-NLP-Part-2.ipynb",
      "provenance": [],
      "authorship_tag": "ABX9TyOl1HrZja6KN6QnrKsPgGOy",
      "include_colab_link": true
    },
    "kernelspec": {
      "name": "python3",
      "display_name": "Python 3"
    },
    "language_info": {
      "name": "python"
    }
  },
  "cells": [
    {
      "cell_type": "markdown",
      "metadata": {
        "id": "view-in-github",
        "colab_type": "text"
      },
      "source": [
        "<a href=\"https://colab.research.google.com/github/SelvamRaju/Natural-Language-Processing-Statistical-NLP/blob/main/Statistical_NLP_Part_2.ipynb\" target=\"_parent\"><img src=\"https://colab.research.google.com/assets/colab-badge.svg\" alt=\"Open In Colab\"/></a>"
      ]
    },
    {
      "cell_type": "markdown",
      "source": [
        "# Domain : Customer Support"
      ],
      "metadata": {
        "id": "SJiv297JMeHM"
      }
    },
    {
      "cell_type": "markdown",
      "source": [
        "Simple Rule Based Chatbot"
      ],
      "metadata": {
        "id": "Ql9x4KWv6-5h"
      }
    },
    {
      "cell_type": "markdown",
      "source": [
        "### Note: This notebook is built after many references from blogs and code samples in internet and after many trials with various libraries and packages, I chose the one which is effective simple and accurate in responding."
      ],
      "metadata": {
        "id": "qgLwRehv7C_A"
      }
    },
    {
      "cell_type": "code",
      "source": [
        "# Imports\n",
        "import pandas as pd\n",
        "import numpy as np\n",
        "import os\n",
        "import random\n",
        "import json\n",
        "\n",
        "from sklearn.feature_extraction.text import CountVectorizer\n",
        "from scipy.spatial import distance\n",
        "    \n",
        "import warnings\n",
        "warnings.filterwarnings(\"ignore\")"
      ],
      "metadata": {
        "id": "bxzIIH5hMh_c"
      },
      "execution_count": 1,
      "outputs": []
    },
    {
      "cell_type": "code",
      "source": [
        "# Drive mounting\n",
        "from google.colab import drive\n",
        "drive.mount('/content/drive')"
      ],
      "metadata": {
        "colab": {
          "base_uri": "https://localhost:8080/"
        },
        "id": "d_KVHQCSjwPg",
        "outputId": "3e1722ae-e9e7-482c-9f08-8e83a0fef31d"
      },
      "execution_count": 2,
      "outputs": [
        {
          "output_type": "stream",
          "name": "stdout",
          "text": [
            "Drive already mounted at /content/drive; to attempt to forcibly remount, call drive.mount(\"/content/drive\", force_remount=True).\n"
          ]
        }
      ]
    },
    {
      "cell_type": "code",
      "source": [
        "#Declaring the working directory (Directory in Drive)\n",
        "os.chdir('/content/drive/MyDrive/Colab Notebooks/Data/Statistical-NLP/');"
      ],
      "metadata": {
        "id": "4pRGMzw_kaBS"
      },
      "execution_count": 3,
      "outputs": []
    },
    {
      "cell_type": "code",
      "source": [
        "#Listing the files under the current working directory\n",
        "!ls"
      ],
      "metadata": {
        "colab": {
          "base_uri": "https://localhost:8080/"
        },
        "id": "7Mbco8jakiyJ",
        "outputId": "d38c06bc-91dd-4f3f-fd68-01d824fc4ca6"
      },
      "execution_count": 4,
      "outputs": [
        {
          "output_type": "stream",
          "name": "stdout",
          "text": [
            "'GL Bot.json'\n"
          ]
        }
      ]
    },
    {
      "cell_type": "code",
      "source": [
        "# Reading JSON data\n",
        "f=open('GL Bot.json','r',errors = 'ignore')\n",
        "\n",
        "with f as file :\n",
        "    data = json.load(file)"
      ],
      "metadata": {
        "id": "1Z4OZBArs4oY"
      },
      "execution_count": 5,
      "outputs": []
    },
    {
      "cell_type": "code",
      "source": [
        "# Pretty Printing json data\n",
        "\n",
        "print(json.dumps(data, indent=4, sort_keys=True))"
      ],
      "metadata": {
        "colab": {
          "base_uri": "https://localhost:8080/"
        },
        "id": "zn8Eh6aTtZjN",
        "outputId": "5dfe4a3e-abb0-48ad-ffac-e6cbc88c6a9a"
      },
      "execution_count": 6,
      "outputs": [
        {
          "output_type": "stream",
          "name": "stdout",
          "text": [
            "{\n",
            "    \"intents\": [\n",
            "        {\n",
            "            \"context_set\": \"\",\n",
            "            \"patterns\": [\n",
            "                \"hi\",\n",
            "                \"how are you\",\n",
            "                \"is anyone there\",\n",
            "                \"hello\",\n",
            "                \"whats up\",\n",
            "                \"hey\",\n",
            "                \"yo\",\n",
            "                \"listen\",\n",
            "                \"please help me\",\n",
            "                \"i am learner from\",\n",
            "                \"i belong to\",\n",
            "                \"aiml batch\",\n",
            "                \"aifl batch\",\n",
            "                \"i am from\",\n",
            "                \"my pm is\",\n",
            "                \"blended\",\n",
            "                \"online\",\n",
            "                \"i am from\",\n",
            "                \"hey ya\",\n",
            "                \"talking to you for first time\"\n",
            "            ],\n",
            "            \"responses\": [\n",
            "                \"Hello! how can i help you ?\"\n",
            "            ],\n",
            "            \"tag\": \"Intro\"\n",
            "        },\n",
            "        {\n",
            "            \"context_set\": \"\",\n",
            "            \"patterns\": [\n",
            "                \"thank you\",\n",
            "                \"thanks\",\n",
            "                \"cya\",\n",
            "                \"see you\",\n",
            "                \"later\",\n",
            "                \"see you later\",\n",
            "                \"goodbye\",\n",
            "                \"i am leaving\",\n",
            "                \"have a Good day\",\n",
            "                \"you helped me\",\n",
            "                \"thanks a lot\",\n",
            "                \"thanks a ton\",\n",
            "                \"you are the best\",\n",
            "                \"great help\",\n",
            "                \"too good\",\n",
            "                \"you are a good learning buddy\"\n",
            "            ],\n",
            "            \"responses\": [\n",
            "                \"I hope I was able to assist you, Good Bye\"\n",
            "            ],\n",
            "            \"tag\": \"Exit\"\n",
            "        },\n",
            "        {\n",
            "            \"context_set\": \"\",\n",
            "            \"patterns\": [\n",
            "                \"olympus\",\n",
            "                \"explain me how olympus works\",\n",
            "                \"I am not able to understand olympus\",\n",
            "                \"olympus window not working\",\n",
            "                \"no access to olympus\",\n",
            "                \"unable to see link in olympus\",\n",
            "                \"no link visible on olympus\",\n",
            "                \"whom to contact for olympus\",\n",
            "                \"lot of problem with olympus\",\n",
            "                \"olypus is not a good tool\",\n",
            "                \"lot of problems with olympus\",\n",
            "                \"how to use olympus\",\n",
            "                \"teach me olympus\"\n",
            "            ],\n",
            "            \"responses\": [\n",
            "                \"Link: Olympus wiki\"\n",
            "            ],\n",
            "            \"tag\": \"Olympus\"\n",
            "        },\n",
            "        {\n",
            "            \"context_set\": \"\",\n",
            "            \"patterns\": [\n",
            "                \"i am not able to understand svm\",\n",
            "                \"explain me how machine learning works\",\n",
            "                \"i am not able to understand naive bayes\",\n",
            "                \"i am not able to understand logistic regression\",\n",
            "                \"i am not able to understand ensemble techb=niques\",\n",
            "                \"i am not able to understand knn\",\n",
            "                \"i am not able to understand knn imputer\",\n",
            "                \"i am not able to understand cross validation\",\n",
            "                \"i am not able to understand boosting\",\n",
            "                \"i am not able to understand random forest\",\n",
            "                \"i am not able to understand ada boosting\",\n",
            "                \"i am not able to understand gradient boosting\",\n",
            "                \"machine learning\",\n",
            "                \"ML\",\n",
            "                \"SL\",\n",
            "                \"supervised learning\",\n",
            "                \"knn\",\n",
            "                \"logistic regression\",\n",
            "                \"regression\",\n",
            "                \"classification\",\n",
            "                \"naive bayes\",\n",
            "                \"nb\",\n",
            "                \"ensemble techniques\",\n",
            "                \"bagging\",\n",
            "                \"boosting\",\n",
            "                \"ada boosting\",\n",
            "                \"ada\",\n",
            "                \"gradient boosting\",\n",
            "                \"hyper parameters\"\n",
            "            ],\n",
            "            \"responses\": [\n",
            "                \"Link: Machine Learning wiki \"\n",
            "            ],\n",
            "            \"tag\": \"SL\"\n",
            "        },\n",
            "        {\n",
            "            \"context_set\": \"\",\n",
            "            \"patterns\": [\n",
            "                \"what is deep learning\",\n",
            "                \"unable to understand deep learning\",\n",
            "                \"explain me how deep learning works\",\n",
            "                \"i am not able to understand deep learning\",\n",
            "                \"not able to understand neural nets\",\n",
            "                \"very diffult to understand neural nets\",\n",
            "                \"unable to understand neural nets\",\n",
            "                \"ann\",\n",
            "                \"artificial intelligence\",\n",
            "                \"artificial neural networks\",\n",
            "                \"weights\",\n",
            "                \"activation function\",\n",
            "                \"hidden layers\",\n",
            "                \"softmax\",\n",
            "                \"sigmoid\",\n",
            "                \"relu\",\n",
            "                \"otimizer\",\n",
            "                \"forward propagation\",\n",
            "                \"backward propagation\",\n",
            "                \"epochs\",\n",
            "                \"epoch\",\n",
            "                \"what is an epoch\",\n",
            "                \"adam\",\n",
            "                \"sgd\"\n",
            "            ],\n",
            "            \"responses\": [\n",
            "                \"Link: Neural Nets wiki\"\n",
            "            ],\n",
            "            \"tag\": \"NN\"\n",
            "        },\n",
            "        {\n",
            "            \"context_set\": \"\",\n",
            "            \"patterns\": [\n",
            "                \"what is your name\",\n",
            "                \"who are you\",\n",
            "                \"name please\",\n",
            "                \"when are your hours of opertions\",\n",
            "                \"what are your working hours\",\n",
            "                \"hours of operation\",\n",
            "                \"working hours\",\n",
            "                \"hours\"\n",
            "            ],\n",
            "            \"responses\": [\n",
            "                \"I am your virtual learning assistant\"\n",
            "            ],\n",
            "            \"tag\": \"Bot\"\n",
            "        },\n",
            "        {\n",
            "            \"context_set\": \"\",\n",
            "            \"patterns\": [\n",
            "                \"what the hell\",\n",
            "                \"bloody stupid bot\",\n",
            "                \"do you think you are very smart\",\n",
            "                \"screw you\",\n",
            "                \"i hate you\",\n",
            "                \"you are stupid\",\n",
            "                \"jerk\",\n",
            "                \"you are a joke\",\n",
            "                \"useless piece of shit\"\n",
            "            ],\n",
            "            \"responses\": [\n",
            "                \"Please use respectful words\"\n",
            "            ],\n",
            "            \"tag\": \"Profane\"\n",
            "        },\n",
            "        {\n",
            "            \"context_set\": \"\",\n",
            "            \"patterns\": [\n",
            "                \"my problem is not solved\",\n",
            "                \"you did not help me\",\n",
            "                \"not a good solution\",\n",
            "                \"bad solution\",\n",
            "                \"not good solution\",\n",
            "                \"no help\",\n",
            "                \"wasted my time\",\n",
            "                \"useless bot\",\n",
            "                \"create a ticket\"\n",
            "            ],\n",
            "            \"responses\": [\n",
            "                \"Tarnsferring the request to your PM\"\n",
            "            ],\n",
            "            \"tag\": \"Ticket\"\n",
            "        }\n",
            "    ]\n",
            "}\n"
          ]
        }
      ]
    },
    {
      "cell_type": "code",
      "source": [
        "data = data['intents']\n",
        "df = pd.DataFrame(columns=['tag', 'patterns', 'responses'])\n",
        "for i in data:\n",
        "    intent = i['tag']\n",
        "    for t, r in zip(i['patterns'], i['responses']):\n",
        "        row = {'tag': intent, 'patterns': t, 'responses':r}\n",
        "        df = df.append(row, ignore_index=True)\n",
        "df"
      ],
      "metadata": {
        "colab": {
          "base_uri": "https://localhost:8080/",
          "height": 300
        },
        "id": "CCZlhv5qvKzl",
        "outputId": "f2def7de-ecd6-4404-aa3b-0528f04cf70c"
      },
      "execution_count": 7,
      "outputs": [
        {
          "output_type": "execute_result",
          "data": {
            "text/html": [
              "\n",
              "  <div id=\"df-cb4515a2-8245-4096-a77f-7a74c9b49668\">\n",
              "    <div class=\"colab-df-container\">\n",
              "      <div>\n",
              "<style scoped>\n",
              "    .dataframe tbody tr th:only-of-type {\n",
              "        vertical-align: middle;\n",
              "    }\n",
              "\n",
              "    .dataframe tbody tr th {\n",
              "        vertical-align: top;\n",
              "    }\n",
              "\n",
              "    .dataframe thead th {\n",
              "        text-align: right;\n",
              "    }\n",
              "</style>\n",
              "<table border=\"1\" class=\"dataframe\">\n",
              "  <thead>\n",
              "    <tr style=\"text-align: right;\">\n",
              "      <th></th>\n",
              "      <th>tag</th>\n",
              "      <th>patterns</th>\n",
              "      <th>responses</th>\n",
              "    </tr>\n",
              "  </thead>\n",
              "  <tbody>\n",
              "    <tr>\n",
              "      <th>0</th>\n",
              "      <td>Intro</td>\n",
              "      <td>hi</td>\n",
              "      <td>Hello! how can i help you ?</td>\n",
              "    </tr>\n",
              "    <tr>\n",
              "      <th>1</th>\n",
              "      <td>Exit</td>\n",
              "      <td>thank you</td>\n",
              "      <td>I hope I was able to assist you, Good Bye</td>\n",
              "    </tr>\n",
              "    <tr>\n",
              "      <th>2</th>\n",
              "      <td>Olympus</td>\n",
              "      <td>olympus</td>\n",
              "      <td>Link: Olympus wiki</td>\n",
              "    </tr>\n",
              "    <tr>\n",
              "      <th>3</th>\n",
              "      <td>SL</td>\n",
              "      <td>i am not able to understand svm</td>\n",
              "      <td>Link: Machine Learning wiki</td>\n",
              "    </tr>\n",
              "    <tr>\n",
              "      <th>4</th>\n",
              "      <td>NN</td>\n",
              "      <td>what is deep learning</td>\n",
              "      <td>Link: Neural Nets wiki</td>\n",
              "    </tr>\n",
              "    <tr>\n",
              "      <th>5</th>\n",
              "      <td>Bot</td>\n",
              "      <td>what is your name</td>\n",
              "      <td>I am your virtual learning assistant</td>\n",
              "    </tr>\n",
              "    <tr>\n",
              "      <th>6</th>\n",
              "      <td>Profane</td>\n",
              "      <td>what the hell</td>\n",
              "      <td>Please use respectful words</td>\n",
              "    </tr>\n",
              "    <tr>\n",
              "      <th>7</th>\n",
              "      <td>Ticket</td>\n",
              "      <td>my problem is not solved</td>\n",
              "      <td>Tarnsferring the request to your PM</td>\n",
              "    </tr>\n",
              "  </tbody>\n",
              "</table>\n",
              "</div>\n",
              "      <button class=\"colab-df-convert\" onclick=\"convertToInteractive('df-cb4515a2-8245-4096-a77f-7a74c9b49668')\"\n",
              "              title=\"Convert this dataframe to an interactive table.\"\n",
              "              style=\"display:none;\">\n",
              "        \n",
              "  <svg xmlns=\"http://www.w3.org/2000/svg\" height=\"24px\"viewBox=\"0 0 24 24\"\n",
              "       width=\"24px\">\n",
              "    <path d=\"M0 0h24v24H0V0z\" fill=\"none\"/>\n",
              "    <path d=\"M18.56 5.44l.94 2.06.94-2.06 2.06-.94-2.06-.94-.94-2.06-.94 2.06-2.06.94zm-11 1L8.5 8.5l.94-2.06 2.06-.94-2.06-.94L8.5 2.5l-.94 2.06-2.06.94zm10 10l.94 2.06.94-2.06 2.06-.94-2.06-.94-.94-2.06-.94 2.06-2.06.94z\"/><path d=\"M17.41 7.96l-1.37-1.37c-.4-.4-.92-.59-1.43-.59-.52 0-1.04.2-1.43.59L10.3 9.45l-7.72 7.72c-.78.78-.78 2.05 0 2.83L4 21.41c.39.39.9.59 1.41.59.51 0 1.02-.2 1.41-.59l7.78-7.78 2.81-2.81c.8-.78.8-2.07 0-2.86zM5.41 20L4 18.59l7.72-7.72 1.47 1.35L5.41 20z\"/>\n",
              "  </svg>\n",
              "      </button>\n",
              "      \n",
              "  <style>\n",
              "    .colab-df-container {\n",
              "      display:flex;\n",
              "      flex-wrap:wrap;\n",
              "      gap: 12px;\n",
              "    }\n",
              "\n",
              "    .colab-df-convert {\n",
              "      background-color: #E8F0FE;\n",
              "      border: none;\n",
              "      border-radius: 50%;\n",
              "      cursor: pointer;\n",
              "      display: none;\n",
              "      fill: #1967D2;\n",
              "      height: 32px;\n",
              "      padding: 0 0 0 0;\n",
              "      width: 32px;\n",
              "    }\n",
              "\n",
              "    .colab-df-convert:hover {\n",
              "      background-color: #E2EBFA;\n",
              "      box-shadow: 0px 1px 2px rgba(60, 64, 67, 0.3), 0px 1px 3px 1px rgba(60, 64, 67, 0.15);\n",
              "      fill: #174EA6;\n",
              "    }\n",
              "\n",
              "    [theme=dark] .colab-df-convert {\n",
              "      background-color: #3B4455;\n",
              "      fill: #D2E3FC;\n",
              "    }\n",
              "\n",
              "    [theme=dark] .colab-df-convert:hover {\n",
              "      background-color: #434B5C;\n",
              "      box-shadow: 0px 1px 3px 1px rgba(0, 0, 0, 0.15);\n",
              "      filter: drop-shadow(0px 1px 2px rgba(0, 0, 0, 0.3));\n",
              "      fill: #FFFFFF;\n",
              "    }\n",
              "  </style>\n",
              "\n",
              "      <script>\n",
              "        const buttonEl =\n",
              "          document.querySelector('#df-cb4515a2-8245-4096-a77f-7a74c9b49668 button.colab-df-convert');\n",
              "        buttonEl.style.display =\n",
              "          google.colab.kernel.accessAllowed ? 'block' : 'none';\n",
              "\n",
              "        async function convertToInteractive(key) {\n",
              "          const element = document.querySelector('#df-cb4515a2-8245-4096-a77f-7a74c9b49668');\n",
              "          const dataTable =\n",
              "            await google.colab.kernel.invokeFunction('convertToInteractive',\n",
              "                                                     [key], {});\n",
              "          if (!dataTable) return;\n",
              "\n",
              "          const docLinkHtml = 'Like what you see? Visit the ' +\n",
              "            '<a target=\"_blank\" href=https://colab.research.google.com/notebooks/data_table.ipynb>data table notebook</a>'\n",
              "            + ' to learn more about interactive tables.';\n",
              "          element.innerHTML = '';\n",
              "          dataTable['output_type'] = 'display_data';\n",
              "          await google.colab.output.renderOutput(dataTable, element);\n",
              "          const docLink = document.createElement('div');\n",
              "          docLink.innerHTML = docLinkHtml;\n",
              "          element.appendChild(docLink);\n",
              "        }\n",
              "      </script>\n",
              "    </div>\n",
              "  </div>\n",
              "  "
            ],
            "text/plain": [
              "       tag  ...                                  responses\n",
              "0    Intro  ...                Hello! how can i help you ?\n",
              "1     Exit  ...  I hope I was able to assist you, Good Bye\n",
              "2  Olympus  ...                         Link: Olympus wiki\n",
              "3       SL  ...               Link: Machine Learning wiki \n",
              "4       NN  ...                     Link: Neural Nets wiki\n",
              "5      Bot  ...       I am your virtual learning assistant\n",
              "6  Profane  ...                Please use respectful words\n",
              "7   Ticket  ...        Tarnsferring the request to your PM\n",
              "\n",
              "[8 rows x 3 columns]"
            ]
          },
          "metadata": {},
          "execution_count": 7
        }
      ]
    },
    {
      "cell_type": "code",
      "source": [
        "def process_count_vectorizer(textA, textB):\n",
        "    inputOutput = [textA , textB]\n",
        "    vectorizer = CountVectorizer()\n",
        "    sentencesToVector = vectorizer.fit_transform(inputOutput)\n",
        "    input = sentencesToVector.toarray()[0].tolist()\n",
        "    output = sentencesToVector.toarray()[1].tolist()\n",
        "    cosine_distance = distance.cosine(input, output)\n",
        "    return round((1-cosine_distance),2)"
      ],
      "metadata": {
        "id": "WHsnufD50k1b"
      },
      "execution_count": 8,
      "outputs": []
    },
    {
      "cell_type": "code",
      "source": [
        "def respond(inputText):\n",
        "    maximum = float('-inf')\n",
        "    response = \"\"\n",
        "    for data in df.iterrows():\n",
        "        similar = process_count_vectorizer(inputText, data[1]['patterns'])\n",
        "        if similar > maximum:\n",
        "            maximum = similar\n",
        "            response = data[1]['responses']\n",
        "    return response"
      ],
      "metadata": {
        "id": "0eWz3RXo0qE1"
      },
      "execution_count": 9,
      "outputs": []
    },
    {
      "cell_type": "code",
      "source": [
        "while True:\n",
        "    inputText = str(input(\"You: \"))\n",
        "    if inputText.lower() == \"exit\":\n",
        "        print(\"Delvin Bot is exiting.....\")\n",
        "        break\n",
        "    print(\"Delvin Bot:\",respond(inputText))"
      ],
      "metadata": {
        "colab": {
          "base_uri": "https://localhost:8080/"
        },
        "id": "D__xURtw0wL7",
        "outputId": "212952ae-3e90-4fd0-9ffb-b2d74d753e6b"
      },
      "execution_count": 10,
      "outputs": [
        {
          "output_type": "stream",
          "name": "stdout",
          "text": [
            "You: Hi Delvin\n",
            "Delvin Bot: Hello! how can i help you ?\n",
            "You: What is machine learning\n",
            "Delvin Bot: Link: Neural Nets wiki\n",
            "You: Problem not solved\n",
            "Delvin Bot: Tarnsferring the request to your PM\n",
            "You: Ok\n",
            "Delvin Bot: Hello! how can i help you ?\n",
            "You: Thank you\n",
            "Delvin Bot: I hope I was able to assist you, Good Bye\n",
            "You: exit\n",
            "Delvin Bot is exiting.....\n"
          ]
        }
      ]
    }
  ]
}