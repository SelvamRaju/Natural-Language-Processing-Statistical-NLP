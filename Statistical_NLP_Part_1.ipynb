{
  "nbformat": 4,
  "nbformat_minor": 0,
  "metadata": {
    "colab": {
      "name": "Statistical-NLP-Part-1.ipynb",
      "provenance": [],
      "authorship_tag": "ABX9TyMpVPN+9Z0y0YWclwl3WmUN",
      "include_colab_link": true
    },
    "kernelspec": {
      "name": "python3",
      "display_name": "Python 3"
    },
    "language_info": {
      "name": "python"
    },
    "accelerator": "GPU"
  },
  "cells": [
    {
      "cell_type": "markdown",
      "metadata": {
        "id": "view-in-github",
        "colab_type": "text"
      },
      "source": [
        "<a href=\"https://colab.research.google.com/github/SelvamRaju/Natural-Language-Processing-Statistical-NLP/blob/main/Statistical_NLP_Part_1.ipynb\" target=\"_parent\"><img src=\"https://colab.research.google.com/assets/colab-badge.svg\" alt=\"Open In Colab\"/></a>"
      ]
    },
    {
      "cell_type": "markdown",
      "source": [
        "# Domain : Digital Content Management"
      ],
      "metadata": {
        "id": "PqVYsVT5N5lB"
      }
    },
    {
      "cell_type": "code",
      "source": [
        "# Imports\n",
        "import pandas as pd\n",
        "import numpy as np\n",
        "import os\n",
        "\n",
        "import warnings\n",
        "warnings.filterwarnings(\"ignore\")"
      ],
      "metadata": {
        "id": "9oYnjsQqVNHb"
      },
      "execution_count": 2,
      "outputs": []
    },
    {
      "cell_type": "markdown",
      "source": [
        "1 . Read and Analyse Dataset.\n",
        "\n",
        "  A. Clearly write outcome of data analysis(Minimum 2 points)\n",
        "\n",
        "  B. Clean the Structured Data\n",
        "\n",
        "  i . Missing value analysis and imputation.\n",
        "\n",
        "  ii . Eliminate Non-English textual data.\n",
        "  \n",
        "  Hint : Refer ‘langdetect’ library to detect language of the input text)"
      ],
      "metadata": {
        "id": "SaXpxXw2QpMH"
      }
    },
    {
      "cell_type": "code",
      "source": [
        "# Drive mounting\n",
        "from google.colab import drive\n",
        "drive.mount('/content/drive')"
      ],
      "metadata": {
        "colab": {
          "base_uri": "https://localhost:8080/"
        },
        "id": "Q9qe4pMdVxwH",
        "outputId": "d2e07ece-29a5-4a6b-d585-39f8786229b8"
      },
      "execution_count": 3,
      "outputs": [
        {
          "output_type": "stream",
          "name": "stdout",
          "text": [
            "Mounted at /content/drive\n"
          ]
        }
      ]
    },
    {
      "cell_type": "code",
      "source": [
        "#Declaring the working directory (Directory in Drive)\n",
        "os.chdir('/content/drive/MyDrive/Colab Notebooks/Data/Statistical-NLP/');"
      ],
      "metadata": {
        "id": "pTHz9WYJV49_"
      },
      "execution_count": 4,
      "outputs": []
    },
    {
      "cell_type": "code",
      "source": [
        "#Listing the files under the current working directory\n",
        "!ls"
      ],
      "metadata": {
        "colab": {
          "base_uri": "https://localhost:8080/"
        },
        "id": "CLsJXjIyWDwz",
        "outputId": "e40c3532-cb73-44af-e16c-3af4dc42bda9"
      },
      "execution_count": 5,
      "outputs": [
        {
          "output_type": "stream",
          "name": "stdout",
          "text": [
            "blogtext.csv\n"
          ]
        }
      ]
    },
    {
      "cell_type": "code",
      "source": [
        "#Importing CSV dataset\n",
        "df = pd.read_csv('blogtext.csv')\n",
        "df.head()"
      ],
      "metadata": {
        "colab": {
          "base_uri": "https://localhost:8080/",
          "height": 206
        },
        "id": "eniN1HcqWdhk",
        "outputId": "f4038b76-ae64-4e2b-a363-f5bd7b9ec7c3"
      },
      "execution_count": 6,
      "outputs": [
        {
          "output_type": "execute_result",
          "data": {
            "text/html": [
              "\n",
              "  <div id=\"df-d8ba5f8a-d812-4c52-9263-becb69020f98\">\n",
              "    <div class=\"colab-df-container\">\n",
              "      <div>\n",
              "<style scoped>\n",
              "    .dataframe tbody tr th:only-of-type {\n",
              "        vertical-align: middle;\n",
              "    }\n",
              "\n",
              "    .dataframe tbody tr th {\n",
              "        vertical-align: top;\n",
              "    }\n",
              "\n",
              "    .dataframe thead th {\n",
              "        text-align: right;\n",
              "    }\n",
              "</style>\n",
              "<table border=\"1\" class=\"dataframe\">\n",
              "  <thead>\n",
              "    <tr style=\"text-align: right;\">\n",
              "      <th></th>\n",
              "      <th>id</th>\n",
              "      <th>gender</th>\n",
              "      <th>age</th>\n",
              "      <th>topic</th>\n",
              "      <th>sign</th>\n",
              "      <th>date</th>\n",
              "      <th>text</th>\n",
              "    </tr>\n",
              "  </thead>\n",
              "  <tbody>\n",
              "    <tr>\n",
              "      <th>0</th>\n",
              "      <td>2059027</td>\n",
              "      <td>male</td>\n",
              "      <td>15</td>\n",
              "      <td>Student</td>\n",
              "      <td>Leo</td>\n",
              "      <td>14,May,2004</td>\n",
              "      <td>Info has been found (+/- 100 pages,...</td>\n",
              "    </tr>\n",
              "    <tr>\n",
              "      <th>1</th>\n",
              "      <td>2059027</td>\n",
              "      <td>male</td>\n",
              "      <td>15</td>\n",
              "      <td>Student</td>\n",
              "      <td>Leo</td>\n",
              "      <td>13,May,2004</td>\n",
              "      <td>These are the team members:   Drewe...</td>\n",
              "    </tr>\n",
              "    <tr>\n",
              "      <th>2</th>\n",
              "      <td>2059027</td>\n",
              "      <td>male</td>\n",
              "      <td>15</td>\n",
              "      <td>Student</td>\n",
              "      <td>Leo</td>\n",
              "      <td>12,May,2004</td>\n",
              "      <td>In het kader van kernfusie op aarde...</td>\n",
              "    </tr>\n",
              "    <tr>\n",
              "      <th>3</th>\n",
              "      <td>2059027</td>\n",
              "      <td>male</td>\n",
              "      <td>15</td>\n",
              "      <td>Student</td>\n",
              "      <td>Leo</td>\n",
              "      <td>12,May,2004</td>\n",
              "      <td>testing!!!  testing!!!</td>\n",
              "    </tr>\n",
              "    <tr>\n",
              "      <th>4</th>\n",
              "      <td>3581210</td>\n",
              "      <td>male</td>\n",
              "      <td>33</td>\n",
              "      <td>InvestmentBanking</td>\n",
              "      <td>Aquarius</td>\n",
              "      <td>11,June,2004</td>\n",
              "      <td>Thanks to Yahoo!'s Toolbar I can ...</td>\n",
              "    </tr>\n",
              "  </tbody>\n",
              "</table>\n",
              "</div>\n",
              "      <button class=\"colab-df-convert\" onclick=\"convertToInteractive('df-d8ba5f8a-d812-4c52-9263-becb69020f98')\"\n",
              "              title=\"Convert this dataframe to an interactive table.\"\n",
              "              style=\"display:none;\">\n",
              "        \n",
              "  <svg xmlns=\"http://www.w3.org/2000/svg\" height=\"24px\"viewBox=\"0 0 24 24\"\n",
              "       width=\"24px\">\n",
              "    <path d=\"M0 0h24v24H0V0z\" fill=\"none\"/>\n",
              "    <path d=\"M18.56 5.44l.94 2.06.94-2.06 2.06-.94-2.06-.94-.94-2.06-.94 2.06-2.06.94zm-11 1L8.5 8.5l.94-2.06 2.06-.94-2.06-.94L8.5 2.5l-.94 2.06-2.06.94zm10 10l.94 2.06.94-2.06 2.06-.94-2.06-.94-.94-2.06-.94 2.06-2.06.94z\"/><path d=\"M17.41 7.96l-1.37-1.37c-.4-.4-.92-.59-1.43-.59-.52 0-1.04.2-1.43.59L10.3 9.45l-7.72 7.72c-.78.78-.78 2.05 0 2.83L4 21.41c.39.39.9.59 1.41.59.51 0 1.02-.2 1.41-.59l7.78-7.78 2.81-2.81c.8-.78.8-2.07 0-2.86zM5.41 20L4 18.59l7.72-7.72 1.47 1.35L5.41 20z\"/>\n",
              "  </svg>\n",
              "      </button>\n",
              "      \n",
              "  <style>\n",
              "    .colab-df-container {\n",
              "      display:flex;\n",
              "      flex-wrap:wrap;\n",
              "      gap: 12px;\n",
              "    }\n",
              "\n",
              "    .colab-df-convert {\n",
              "      background-color: #E8F0FE;\n",
              "      border: none;\n",
              "      border-radius: 50%;\n",
              "      cursor: pointer;\n",
              "      display: none;\n",
              "      fill: #1967D2;\n",
              "      height: 32px;\n",
              "      padding: 0 0 0 0;\n",
              "      width: 32px;\n",
              "    }\n",
              "\n",
              "    .colab-df-convert:hover {\n",
              "      background-color: #E2EBFA;\n",
              "      box-shadow: 0px 1px 2px rgba(60, 64, 67, 0.3), 0px 1px 3px 1px rgba(60, 64, 67, 0.15);\n",
              "      fill: #174EA6;\n",
              "    }\n",
              "\n",
              "    [theme=dark] .colab-df-convert {\n",
              "      background-color: #3B4455;\n",
              "      fill: #D2E3FC;\n",
              "    }\n",
              "\n",
              "    [theme=dark] .colab-df-convert:hover {\n",
              "      background-color: #434B5C;\n",
              "      box-shadow: 0px 1px 3px 1px rgba(0, 0, 0, 0.15);\n",
              "      filter: drop-shadow(0px 1px 2px rgba(0, 0, 0, 0.3));\n",
              "      fill: #FFFFFF;\n",
              "    }\n",
              "  </style>\n",
              "\n",
              "      <script>\n",
              "        const buttonEl =\n",
              "          document.querySelector('#df-d8ba5f8a-d812-4c52-9263-becb69020f98 button.colab-df-convert');\n",
              "        buttonEl.style.display =\n",
              "          google.colab.kernel.accessAllowed ? 'block' : 'none';\n",
              "\n",
              "        async function convertToInteractive(key) {\n",
              "          const element = document.querySelector('#df-d8ba5f8a-d812-4c52-9263-becb69020f98');\n",
              "          const dataTable =\n",
              "            await google.colab.kernel.invokeFunction('convertToInteractive',\n",
              "                                                     [key], {});\n",
              "          if (!dataTable) return;\n",
              "\n",
              "          const docLinkHtml = 'Like what you see? Visit the ' +\n",
              "            '<a target=\"_blank\" href=https://colab.research.google.com/notebooks/data_table.ipynb>data table notebook</a>'\n",
              "            + ' to learn more about interactive tables.';\n",
              "          element.innerHTML = '';\n",
              "          dataTable['output_type'] = 'display_data';\n",
              "          await google.colab.output.renderOutput(dataTable, element);\n",
              "          const docLink = document.createElement('div');\n",
              "          docLink.innerHTML = docLinkHtml;\n",
              "          element.appendChild(docLink);\n",
              "        }\n",
              "      </script>\n",
              "    </div>\n",
              "  </div>\n",
              "  "
            ],
            "text/plain": [
              "        id  ...                                               text\n",
              "0  2059027  ...             Info has been found (+/- 100 pages,...\n",
              "1  2059027  ...             These are the team members:   Drewe...\n",
              "2  2059027  ...             In het kader van kernfusie op aarde...\n",
              "3  2059027  ...                   testing!!!  testing!!!          \n",
              "4  3581210  ...               Thanks to Yahoo!'s Toolbar I can ...\n",
              "\n",
              "[5 rows x 7 columns]"
            ]
          },
          "metadata": {},
          "execution_count": 6
        }
      ]
    },
    {
      "cell_type": "code",
      "source": [
        "# Shape of dataset\n",
        "df.shape"
      ],
      "metadata": {
        "colab": {
          "base_uri": "https://localhost:8080/"
        },
        "id": "f-EN17lVXET6",
        "outputId": "c6d7f3fb-51dd-4fa0-95d3-3c5adc198e1f"
      },
      "execution_count": 7,
      "outputs": [
        {
          "output_type": "execute_result",
          "data": {
            "text/plain": [
              "(681284, 7)"
            ]
          },
          "metadata": {},
          "execution_count": 7
        }
      ]
    },
    {
      "cell_type": "code",
      "source": [
        "# Getting unique topics\n",
        "df['topic'].unique()"
      ],
      "metadata": {
        "colab": {
          "base_uri": "https://localhost:8080/"
        },
        "id": "bjTTqxEPXjE3",
        "outputId": "4409ca1b-9aa3-4e99-fcbe-5f07e1da0c57"
      },
      "execution_count": 8,
      "outputs": [
        {
          "output_type": "execute_result",
          "data": {
            "text/plain": [
              "array(['Student', 'InvestmentBanking', 'indUnk', 'Non-Profit', 'Banking',\n",
              "       'Education', 'Engineering', 'Science', 'Communications-Media',\n",
              "       'BusinessServices', 'Sports-Recreation', 'Arts', 'Internet',\n",
              "       'Museums-Libraries', 'Accounting', 'Technology', 'Law',\n",
              "       'Consulting', 'Automotive', 'Religion', 'Fashion', 'Publishing',\n",
              "       'Marketing', 'LawEnforcement-Security', 'HumanResources',\n",
              "       'Telecommunications', 'Military', 'Government', 'Transportation',\n",
              "       'Architecture', 'Advertising', 'Agriculture', 'Biotech',\n",
              "       'RealEstate', 'Manufacturing', 'Construction', 'Chemicals',\n",
              "       'Maritime', 'Tourism', 'Environment'], dtype=object)"
            ]
          },
          "metadata": {},
          "execution_count": 8
        }
      ]
    },
    {
      "cell_type": "code",
      "source": [
        "# Count of unique topics\n",
        "len(df['topic'].unique())"
      ],
      "metadata": {
        "colab": {
          "base_uri": "https://localhost:8080/"
        },
        "id": "rZcNzUjrX0g7",
        "outputId": "98b2c12d-8a5f-4cdc-f7a7-05702a38dfcf"
      },
      "execution_count": 9,
      "outputs": [
        {
          "output_type": "execute_result",
          "data": {
            "text/plain": [
              "40"
            ]
          },
          "metadata": {},
          "execution_count": 9
        }
      ]
    },
    {
      "cell_type": "code",
      "source": [
        "# Count from groupby topic\n",
        "df.groupby(['topic']).count()"
      ],
      "metadata": {
        "colab": {
          "base_uri": "https://localhost:8080/",
          "height": 1000
        },
        "id": "R6cQkOQgZm36",
        "outputId": "30b7833e-9260-4bbc-ac59-27c2caf72f5d"
      },
      "execution_count": 10,
      "outputs": [
        {
          "output_type": "execute_result",
          "data": {
            "text/html": [
              "\n",
              "  <div id=\"df-a4126b6b-6ff3-4370-bb77-7f7971ee715d\">\n",
              "    <div class=\"colab-df-container\">\n",
              "      <div>\n",
              "<style scoped>\n",
              "    .dataframe tbody tr th:only-of-type {\n",
              "        vertical-align: middle;\n",
              "    }\n",
              "\n",
              "    .dataframe tbody tr th {\n",
              "        vertical-align: top;\n",
              "    }\n",
              "\n",
              "    .dataframe thead th {\n",
              "        text-align: right;\n",
              "    }\n",
              "</style>\n",
              "<table border=\"1\" class=\"dataframe\">\n",
              "  <thead>\n",
              "    <tr style=\"text-align: right;\">\n",
              "      <th></th>\n",
              "      <th>id</th>\n",
              "      <th>gender</th>\n",
              "      <th>age</th>\n",
              "      <th>sign</th>\n",
              "      <th>date</th>\n",
              "      <th>text</th>\n",
              "    </tr>\n",
              "    <tr>\n",
              "      <th>topic</th>\n",
              "      <th></th>\n",
              "      <th></th>\n",
              "      <th></th>\n",
              "      <th></th>\n",
              "      <th></th>\n",
              "      <th></th>\n",
              "    </tr>\n",
              "  </thead>\n",
              "  <tbody>\n",
              "    <tr>\n",
              "      <th>Accounting</th>\n",
              "      <td>3832</td>\n",
              "      <td>3832</td>\n",
              "      <td>3832</td>\n",
              "      <td>3832</td>\n",
              "      <td>3832</td>\n",
              "      <td>3832</td>\n",
              "    </tr>\n",
              "    <tr>\n",
              "      <th>Advertising</th>\n",
              "      <td>4676</td>\n",
              "      <td>4676</td>\n",
              "      <td>4676</td>\n",
              "      <td>4676</td>\n",
              "      <td>4676</td>\n",
              "      <td>4676</td>\n",
              "    </tr>\n",
              "    <tr>\n",
              "      <th>Agriculture</th>\n",
              "      <td>1235</td>\n",
              "      <td>1235</td>\n",
              "      <td>1235</td>\n",
              "      <td>1235</td>\n",
              "      <td>1235</td>\n",
              "      <td>1235</td>\n",
              "    </tr>\n",
              "    <tr>\n",
              "      <th>Architecture</th>\n",
              "      <td>1638</td>\n",
              "      <td>1638</td>\n",
              "      <td>1638</td>\n",
              "      <td>1638</td>\n",
              "      <td>1638</td>\n",
              "      <td>1638</td>\n",
              "    </tr>\n",
              "    <tr>\n",
              "      <th>Arts</th>\n",
              "      <td>32449</td>\n",
              "      <td>32449</td>\n",
              "      <td>32449</td>\n",
              "      <td>32449</td>\n",
              "      <td>32449</td>\n",
              "      <td>32449</td>\n",
              "    </tr>\n",
              "    <tr>\n",
              "      <th>Automotive</th>\n",
              "      <td>1244</td>\n",
              "      <td>1244</td>\n",
              "      <td>1244</td>\n",
              "      <td>1244</td>\n",
              "      <td>1244</td>\n",
              "      <td>1244</td>\n",
              "    </tr>\n",
              "    <tr>\n",
              "      <th>Banking</th>\n",
              "      <td>4049</td>\n",
              "      <td>4049</td>\n",
              "      <td>4049</td>\n",
              "      <td>4049</td>\n",
              "      <td>4049</td>\n",
              "      <td>4049</td>\n",
              "    </tr>\n",
              "    <tr>\n",
              "      <th>Biotech</th>\n",
              "      <td>2234</td>\n",
              "      <td>2234</td>\n",
              "      <td>2234</td>\n",
              "      <td>2234</td>\n",
              "      <td>2234</td>\n",
              "      <td>2234</td>\n",
              "    </tr>\n",
              "    <tr>\n",
              "      <th>BusinessServices</th>\n",
              "      <td>4500</td>\n",
              "      <td>4500</td>\n",
              "      <td>4500</td>\n",
              "      <td>4500</td>\n",
              "      <td>4500</td>\n",
              "      <td>4500</td>\n",
              "    </tr>\n",
              "    <tr>\n",
              "      <th>Chemicals</th>\n",
              "      <td>3928</td>\n",
              "      <td>3928</td>\n",
              "      <td>3928</td>\n",
              "      <td>3928</td>\n",
              "      <td>3928</td>\n",
              "      <td>3928</td>\n",
              "    </tr>\n",
              "    <tr>\n",
              "      <th>Communications-Media</th>\n",
              "      <td>20140</td>\n",
              "      <td>20140</td>\n",
              "      <td>20140</td>\n",
              "      <td>20140</td>\n",
              "      <td>20140</td>\n",
              "      <td>20140</td>\n",
              "    </tr>\n",
              "    <tr>\n",
              "      <th>Construction</th>\n",
              "      <td>1093</td>\n",
              "      <td>1093</td>\n",
              "      <td>1093</td>\n",
              "      <td>1093</td>\n",
              "      <td>1093</td>\n",
              "      <td>1093</td>\n",
              "    </tr>\n",
              "    <tr>\n",
              "      <th>Consulting</th>\n",
              "      <td>5862</td>\n",
              "      <td>5862</td>\n",
              "      <td>5862</td>\n",
              "      <td>5862</td>\n",
              "      <td>5862</td>\n",
              "      <td>5862</td>\n",
              "    </tr>\n",
              "    <tr>\n",
              "      <th>Education</th>\n",
              "      <td>29633</td>\n",
              "      <td>29633</td>\n",
              "      <td>29633</td>\n",
              "      <td>29633</td>\n",
              "      <td>29633</td>\n",
              "      <td>29633</td>\n",
              "    </tr>\n",
              "    <tr>\n",
              "      <th>Engineering</th>\n",
              "      <td>11653</td>\n",
              "      <td>11653</td>\n",
              "      <td>11653</td>\n",
              "      <td>11653</td>\n",
              "      <td>11653</td>\n",
              "      <td>11653</td>\n",
              "    </tr>\n",
              "    <tr>\n",
              "      <th>Environment</th>\n",
              "      <td>592</td>\n",
              "      <td>592</td>\n",
              "      <td>592</td>\n",
              "      <td>592</td>\n",
              "      <td>592</td>\n",
              "      <td>592</td>\n",
              "    </tr>\n",
              "    <tr>\n",
              "      <th>Fashion</th>\n",
              "      <td>4851</td>\n",
              "      <td>4851</td>\n",
              "      <td>4851</td>\n",
              "      <td>4851</td>\n",
              "      <td>4851</td>\n",
              "      <td>4851</td>\n",
              "    </tr>\n",
              "    <tr>\n",
              "      <th>Government</th>\n",
              "      <td>6907</td>\n",
              "      <td>6907</td>\n",
              "      <td>6907</td>\n",
              "      <td>6907</td>\n",
              "      <td>6907</td>\n",
              "      <td>6907</td>\n",
              "    </tr>\n",
              "    <tr>\n",
              "      <th>HumanResources</th>\n",
              "      <td>3010</td>\n",
              "      <td>3010</td>\n",
              "      <td>3010</td>\n",
              "      <td>3010</td>\n",
              "      <td>3010</td>\n",
              "      <td>3010</td>\n",
              "    </tr>\n",
              "    <tr>\n",
              "      <th>Internet</th>\n",
              "      <td>16006</td>\n",
              "      <td>16006</td>\n",
              "      <td>16006</td>\n",
              "      <td>16006</td>\n",
              "      <td>16006</td>\n",
              "      <td>16006</td>\n",
              "    </tr>\n",
              "    <tr>\n",
              "      <th>InvestmentBanking</th>\n",
              "      <td>1292</td>\n",
              "      <td>1292</td>\n",
              "      <td>1292</td>\n",
              "      <td>1292</td>\n",
              "      <td>1292</td>\n",
              "      <td>1292</td>\n",
              "    </tr>\n",
              "    <tr>\n",
              "      <th>Law</th>\n",
              "      <td>9040</td>\n",
              "      <td>9040</td>\n",
              "      <td>9040</td>\n",
              "      <td>9040</td>\n",
              "      <td>9040</td>\n",
              "      <td>9040</td>\n",
              "    </tr>\n",
              "    <tr>\n",
              "      <th>LawEnforcement-Security</th>\n",
              "      <td>1878</td>\n",
              "      <td>1878</td>\n",
              "      <td>1878</td>\n",
              "      <td>1878</td>\n",
              "      <td>1878</td>\n",
              "      <td>1878</td>\n",
              "    </tr>\n",
              "    <tr>\n",
              "      <th>Manufacturing</th>\n",
              "      <td>2272</td>\n",
              "      <td>2272</td>\n",
              "      <td>2272</td>\n",
              "      <td>2272</td>\n",
              "      <td>2272</td>\n",
              "      <td>2272</td>\n",
              "    </tr>\n",
              "    <tr>\n",
              "      <th>Maritime</th>\n",
              "      <td>280</td>\n",
              "      <td>280</td>\n",
              "      <td>280</td>\n",
              "      <td>280</td>\n",
              "      <td>280</td>\n",
              "      <td>280</td>\n",
              "    </tr>\n",
              "    <tr>\n",
              "      <th>Marketing</th>\n",
              "      <td>4769</td>\n",
              "      <td>4769</td>\n",
              "      <td>4769</td>\n",
              "      <td>4769</td>\n",
              "      <td>4769</td>\n",
              "      <td>4769</td>\n",
              "    </tr>\n",
              "    <tr>\n",
              "      <th>Military</th>\n",
              "      <td>3128</td>\n",
              "      <td>3128</td>\n",
              "      <td>3128</td>\n",
              "      <td>3128</td>\n",
              "      <td>3128</td>\n",
              "      <td>3128</td>\n",
              "    </tr>\n",
              "    <tr>\n",
              "      <th>Museums-Libraries</th>\n",
              "      <td>3096</td>\n",
              "      <td>3096</td>\n",
              "      <td>3096</td>\n",
              "      <td>3096</td>\n",
              "      <td>3096</td>\n",
              "      <td>3096</td>\n",
              "    </tr>\n",
              "    <tr>\n",
              "      <th>Non-Profit</th>\n",
              "      <td>14700</td>\n",
              "      <td>14700</td>\n",
              "      <td>14700</td>\n",
              "      <td>14700</td>\n",
              "      <td>14700</td>\n",
              "      <td>14700</td>\n",
              "    </tr>\n",
              "    <tr>\n",
              "      <th>Publishing</th>\n",
              "      <td>7753</td>\n",
              "      <td>7753</td>\n",
              "      <td>7753</td>\n",
              "      <td>7753</td>\n",
              "      <td>7753</td>\n",
              "      <td>7753</td>\n",
              "    </tr>\n",
              "    <tr>\n",
              "      <th>RealEstate</th>\n",
              "      <td>2870</td>\n",
              "      <td>2870</td>\n",
              "      <td>2870</td>\n",
              "      <td>2870</td>\n",
              "      <td>2870</td>\n",
              "      <td>2870</td>\n",
              "    </tr>\n",
              "    <tr>\n",
              "      <th>Religion</th>\n",
              "      <td>5235</td>\n",
              "      <td>5235</td>\n",
              "      <td>5235</td>\n",
              "      <td>5235</td>\n",
              "      <td>5235</td>\n",
              "      <td>5235</td>\n",
              "    </tr>\n",
              "    <tr>\n",
              "      <th>Science</th>\n",
              "      <td>7269</td>\n",
              "      <td>7269</td>\n",
              "      <td>7269</td>\n",
              "      <td>7269</td>\n",
              "      <td>7269</td>\n",
              "      <td>7269</td>\n",
              "    </tr>\n",
              "    <tr>\n",
              "      <th>Sports-Recreation</th>\n",
              "      <td>3038</td>\n",
              "      <td>3038</td>\n",
              "      <td>3038</td>\n",
              "      <td>3038</td>\n",
              "      <td>3038</td>\n",
              "      <td>3038</td>\n",
              "    </tr>\n",
              "    <tr>\n",
              "      <th>Student</th>\n",
              "      <td>153903</td>\n",
              "      <td>153903</td>\n",
              "      <td>153903</td>\n",
              "      <td>153903</td>\n",
              "      <td>153903</td>\n",
              "      <td>153903</td>\n",
              "    </tr>\n",
              "    <tr>\n",
              "      <th>Technology</th>\n",
              "      <td>42055</td>\n",
              "      <td>42055</td>\n",
              "      <td>42055</td>\n",
              "      <td>42055</td>\n",
              "      <td>42055</td>\n",
              "      <td>42055</td>\n",
              "    </tr>\n",
              "    <tr>\n",
              "      <th>Telecommunications</th>\n",
              "      <td>3891</td>\n",
              "      <td>3891</td>\n",
              "      <td>3891</td>\n",
              "      <td>3891</td>\n",
              "      <td>3891</td>\n",
              "      <td>3891</td>\n",
              "    </tr>\n",
              "    <tr>\n",
              "      <th>Tourism</th>\n",
              "      <td>1942</td>\n",
              "      <td>1942</td>\n",
              "      <td>1942</td>\n",
              "      <td>1942</td>\n",
              "      <td>1942</td>\n",
              "      <td>1942</td>\n",
              "    </tr>\n",
              "    <tr>\n",
              "      <th>Transportation</th>\n",
              "      <td>2326</td>\n",
              "      <td>2326</td>\n",
              "      <td>2326</td>\n",
              "      <td>2326</td>\n",
              "      <td>2326</td>\n",
              "      <td>2326</td>\n",
              "    </tr>\n",
              "    <tr>\n",
              "      <th>indUnk</th>\n",
              "      <td>251015</td>\n",
              "      <td>251015</td>\n",
              "      <td>251015</td>\n",
              "      <td>251015</td>\n",
              "      <td>251015</td>\n",
              "      <td>251015</td>\n",
              "    </tr>\n",
              "  </tbody>\n",
              "</table>\n",
              "</div>\n",
              "      <button class=\"colab-df-convert\" onclick=\"convertToInteractive('df-a4126b6b-6ff3-4370-bb77-7f7971ee715d')\"\n",
              "              title=\"Convert this dataframe to an interactive table.\"\n",
              "              style=\"display:none;\">\n",
              "        \n",
              "  <svg xmlns=\"http://www.w3.org/2000/svg\" height=\"24px\"viewBox=\"0 0 24 24\"\n",
              "       width=\"24px\">\n",
              "    <path d=\"M0 0h24v24H0V0z\" fill=\"none\"/>\n",
              "    <path d=\"M18.56 5.44l.94 2.06.94-2.06 2.06-.94-2.06-.94-.94-2.06-.94 2.06-2.06.94zm-11 1L8.5 8.5l.94-2.06 2.06-.94-2.06-.94L8.5 2.5l-.94 2.06-2.06.94zm10 10l.94 2.06.94-2.06 2.06-.94-2.06-.94-.94-2.06-.94 2.06-2.06.94z\"/><path d=\"M17.41 7.96l-1.37-1.37c-.4-.4-.92-.59-1.43-.59-.52 0-1.04.2-1.43.59L10.3 9.45l-7.72 7.72c-.78.78-.78 2.05 0 2.83L4 21.41c.39.39.9.59 1.41.59.51 0 1.02-.2 1.41-.59l7.78-7.78 2.81-2.81c.8-.78.8-2.07 0-2.86zM5.41 20L4 18.59l7.72-7.72 1.47 1.35L5.41 20z\"/>\n",
              "  </svg>\n",
              "      </button>\n",
              "      \n",
              "  <style>\n",
              "    .colab-df-container {\n",
              "      display:flex;\n",
              "      flex-wrap:wrap;\n",
              "      gap: 12px;\n",
              "    }\n",
              "\n",
              "    .colab-df-convert {\n",
              "      background-color: #E8F0FE;\n",
              "      border: none;\n",
              "      border-radius: 50%;\n",
              "      cursor: pointer;\n",
              "      display: none;\n",
              "      fill: #1967D2;\n",
              "      height: 32px;\n",
              "      padding: 0 0 0 0;\n",
              "      width: 32px;\n",
              "    }\n",
              "\n",
              "    .colab-df-convert:hover {\n",
              "      background-color: #E2EBFA;\n",
              "      box-shadow: 0px 1px 2px rgba(60, 64, 67, 0.3), 0px 1px 3px 1px rgba(60, 64, 67, 0.15);\n",
              "      fill: #174EA6;\n",
              "    }\n",
              "\n",
              "    [theme=dark] .colab-df-convert {\n",
              "      background-color: #3B4455;\n",
              "      fill: #D2E3FC;\n",
              "    }\n",
              "\n",
              "    [theme=dark] .colab-df-convert:hover {\n",
              "      background-color: #434B5C;\n",
              "      box-shadow: 0px 1px 3px 1px rgba(0, 0, 0, 0.15);\n",
              "      filter: drop-shadow(0px 1px 2px rgba(0, 0, 0, 0.3));\n",
              "      fill: #FFFFFF;\n",
              "    }\n",
              "  </style>\n",
              "\n",
              "      <script>\n",
              "        const buttonEl =\n",
              "          document.querySelector('#df-a4126b6b-6ff3-4370-bb77-7f7971ee715d button.colab-df-convert');\n",
              "        buttonEl.style.display =\n",
              "          google.colab.kernel.accessAllowed ? 'block' : 'none';\n",
              "\n",
              "        async function convertToInteractive(key) {\n",
              "          const element = document.querySelector('#df-a4126b6b-6ff3-4370-bb77-7f7971ee715d');\n",
              "          const dataTable =\n",
              "            await google.colab.kernel.invokeFunction('convertToInteractive',\n",
              "                                                     [key], {});\n",
              "          if (!dataTable) return;\n",
              "\n",
              "          const docLinkHtml = 'Like what you see? Visit the ' +\n",
              "            '<a target=\"_blank\" href=https://colab.research.google.com/notebooks/data_table.ipynb>data table notebook</a>'\n",
              "            + ' to learn more about interactive tables.';\n",
              "          element.innerHTML = '';\n",
              "          dataTable['output_type'] = 'display_data';\n",
              "          await google.colab.output.renderOutput(dataTable, element);\n",
              "          const docLink = document.createElement('div');\n",
              "          docLink.innerHTML = docLinkHtml;\n",
              "          element.appendChild(docLink);\n",
              "        }\n",
              "      </script>\n",
              "    </div>\n",
              "  </div>\n",
              "  "
            ],
            "text/plain": [
              "                             id  gender     age    sign    date    text\n",
              "topic                                                                  \n",
              "Accounting                 3832    3832    3832    3832    3832    3832\n",
              "Advertising                4676    4676    4676    4676    4676    4676\n",
              "Agriculture                1235    1235    1235    1235    1235    1235\n",
              "Architecture               1638    1638    1638    1638    1638    1638\n",
              "Arts                      32449   32449   32449   32449   32449   32449\n",
              "Automotive                 1244    1244    1244    1244    1244    1244\n",
              "Banking                    4049    4049    4049    4049    4049    4049\n",
              "Biotech                    2234    2234    2234    2234    2234    2234\n",
              "BusinessServices           4500    4500    4500    4500    4500    4500\n",
              "Chemicals                  3928    3928    3928    3928    3928    3928\n",
              "Communications-Media      20140   20140   20140   20140   20140   20140\n",
              "Construction               1093    1093    1093    1093    1093    1093\n",
              "Consulting                 5862    5862    5862    5862    5862    5862\n",
              "Education                 29633   29633   29633   29633   29633   29633\n",
              "Engineering               11653   11653   11653   11653   11653   11653\n",
              "Environment                 592     592     592     592     592     592\n",
              "Fashion                    4851    4851    4851    4851    4851    4851\n",
              "Government                 6907    6907    6907    6907    6907    6907\n",
              "HumanResources             3010    3010    3010    3010    3010    3010\n",
              "Internet                  16006   16006   16006   16006   16006   16006\n",
              "InvestmentBanking          1292    1292    1292    1292    1292    1292\n",
              "Law                        9040    9040    9040    9040    9040    9040\n",
              "LawEnforcement-Security    1878    1878    1878    1878    1878    1878\n",
              "Manufacturing              2272    2272    2272    2272    2272    2272\n",
              "Maritime                    280     280     280     280     280     280\n",
              "Marketing                  4769    4769    4769    4769    4769    4769\n",
              "Military                   3128    3128    3128    3128    3128    3128\n",
              "Museums-Libraries          3096    3096    3096    3096    3096    3096\n",
              "Non-Profit                14700   14700   14700   14700   14700   14700\n",
              "Publishing                 7753    7753    7753    7753    7753    7753\n",
              "RealEstate                 2870    2870    2870    2870    2870    2870\n",
              "Religion                   5235    5235    5235    5235    5235    5235\n",
              "Science                    7269    7269    7269    7269    7269    7269\n",
              "Sports-Recreation          3038    3038    3038    3038    3038    3038\n",
              "Student                  153903  153903  153903  153903  153903  153903\n",
              "Technology                42055   42055   42055   42055   42055   42055\n",
              "Telecommunications         3891    3891    3891    3891    3891    3891\n",
              "Tourism                    1942    1942    1942    1942    1942    1942\n",
              "Transportation             2326    2326    2326    2326    2326    2326\n",
              "indUnk                   251015  251015  251015  251015  251015  251015"
            ]
          },
          "metadata": {},
          "execution_count": 10
        }
      ]
    },
    {
      "cell_type": "code",
      "source": [
        "#info about dataset\n",
        "df.info()"
      ],
      "metadata": {
        "colab": {
          "base_uri": "https://localhost:8080/"
        },
        "id": "ECzGtpZ1YlNW",
        "outputId": "2fa2df61-62ff-438c-d630-d6a0e3240c16"
      },
      "execution_count": 11,
      "outputs": [
        {
          "output_type": "stream",
          "name": "stdout",
          "text": [
            "<class 'pandas.core.frame.DataFrame'>\n",
            "RangeIndex: 681284 entries, 0 to 681283\n",
            "Data columns (total 7 columns):\n",
            " #   Column  Non-Null Count   Dtype \n",
            "---  ------  --------------   ----- \n",
            " 0   id      681284 non-null  int64 \n",
            " 1   gender  681284 non-null  object\n",
            " 2   age     681284 non-null  int64 \n",
            " 3   topic   681284 non-null  object\n",
            " 4   sign    681284 non-null  object\n",
            " 5   date    681284 non-null  object\n",
            " 6   text    681284 non-null  object\n",
            "dtypes: int64(2), object(5)\n",
            "memory usage: 36.4+ MB\n"
          ]
        }
      ]
    },
    {
      "cell_type": "code",
      "source": [
        "#null check\n",
        "df.isnull().any()"
      ],
      "metadata": {
        "colab": {
          "base_uri": "https://localhost:8080/"
        },
        "id": "yVDPquN0YuXZ",
        "outputId": "0666e9a2-cb5b-473d-d630-c916e232c7da"
      },
      "execution_count": 12,
      "outputs": [
        {
          "output_type": "execute_result",
          "data": {
            "text/plain": [
              "id        False\n",
              "gender    False\n",
              "age       False\n",
              "topic     False\n",
              "sign      False\n",
              "date      False\n",
              "text      False\n",
              "dtype: bool"
            ]
          },
          "metadata": {},
          "execution_count": 12
        }
      ]
    },
    {
      "cell_type": "code",
      "source": [
        "# Displaying the datatypes\n",
        "df.dtypes.to_frame(name = 'Data Type')"
      ],
      "metadata": {
        "colab": {
          "base_uri": "https://localhost:8080/",
          "height": 269
        },
        "id": "gWqxDJOFY2xm",
        "outputId": "3ed1be4a-ad5a-4ce1-be2a-84816985daec"
      },
      "execution_count": 13,
      "outputs": [
        {
          "output_type": "execute_result",
          "data": {
            "text/html": [
              "\n",
              "  <div id=\"df-c4c68a96-0379-42e8-80a4-10565c02acad\">\n",
              "    <div class=\"colab-df-container\">\n",
              "      <div>\n",
              "<style scoped>\n",
              "    .dataframe tbody tr th:only-of-type {\n",
              "        vertical-align: middle;\n",
              "    }\n",
              "\n",
              "    .dataframe tbody tr th {\n",
              "        vertical-align: top;\n",
              "    }\n",
              "\n",
              "    .dataframe thead th {\n",
              "        text-align: right;\n",
              "    }\n",
              "</style>\n",
              "<table border=\"1\" class=\"dataframe\">\n",
              "  <thead>\n",
              "    <tr style=\"text-align: right;\">\n",
              "      <th></th>\n",
              "      <th>Data Type</th>\n",
              "    </tr>\n",
              "  </thead>\n",
              "  <tbody>\n",
              "    <tr>\n",
              "      <th>id</th>\n",
              "      <td>int64</td>\n",
              "    </tr>\n",
              "    <tr>\n",
              "      <th>gender</th>\n",
              "      <td>object</td>\n",
              "    </tr>\n",
              "    <tr>\n",
              "      <th>age</th>\n",
              "      <td>int64</td>\n",
              "    </tr>\n",
              "    <tr>\n",
              "      <th>topic</th>\n",
              "      <td>object</td>\n",
              "    </tr>\n",
              "    <tr>\n",
              "      <th>sign</th>\n",
              "      <td>object</td>\n",
              "    </tr>\n",
              "    <tr>\n",
              "      <th>date</th>\n",
              "      <td>object</td>\n",
              "    </tr>\n",
              "    <tr>\n",
              "      <th>text</th>\n",
              "      <td>object</td>\n",
              "    </tr>\n",
              "  </tbody>\n",
              "</table>\n",
              "</div>\n",
              "      <button class=\"colab-df-convert\" onclick=\"convertToInteractive('df-c4c68a96-0379-42e8-80a4-10565c02acad')\"\n",
              "              title=\"Convert this dataframe to an interactive table.\"\n",
              "              style=\"display:none;\">\n",
              "        \n",
              "  <svg xmlns=\"http://www.w3.org/2000/svg\" height=\"24px\"viewBox=\"0 0 24 24\"\n",
              "       width=\"24px\">\n",
              "    <path d=\"M0 0h24v24H0V0z\" fill=\"none\"/>\n",
              "    <path d=\"M18.56 5.44l.94 2.06.94-2.06 2.06-.94-2.06-.94-.94-2.06-.94 2.06-2.06.94zm-11 1L8.5 8.5l.94-2.06 2.06-.94-2.06-.94L8.5 2.5l-.94 2.06-2.06.94zm10 10l.94 2.06.94-2.06 2.06-.94-2.06-.94-.94-2.06-.94 2.06-2.06.94z\"/><path d=\"M17.41 7.96l-1.37-1.37c-.4-.4-.92-.59-1.43-.59-.52 0-1.04.2-1.43.59L10.3 9.45l-7.72 7.72c-.78.78-.78 2.05 0 2.83L4 21.41c.39.39.9.59 1.41.59.51 0 1.02-.2 1.41-.59l7.78-7.78 2.81-2.81c.8-.78.8-2.07 0-2.86zM5.41 20L4 18.59l7.72-7.72 1.47 1.35L5.41 20z\"/>\n",
              "  </svg>\n",
              "      </button>\n",
              "      \n",
              "  <style>\n",
              "    .colab-df-container {\n",
              "      display:flex;\n",
              "      flex-wrap:wrap;\n",
              "      gap: 12px;\n",
              "    }\n",
              "\n",
              "    .colab-df-convert {\n",
              "      background-color: #E8F0FE;\n",
              "      border: none;\n",
              "      border-radius: 50%;\n",
              "      cursor: pointer;\n",
              "      display: none;\n",
              "      fill: #1967D2;\n",
              "      height: 32px;\n",
              "      padding: 0 0 0 0;\n",
              "      width: 32px;\n",
              "    }\n",
              "\n",
              "    .colab-df-convert:hover {\n",
              "      background-color: #E2EBFA;\n",
              "      box-shadow: 0px 1px 2px rgba(60, 64, 67, 0.3), 0px 1px 3px 1px rgba(60, 64, 67, 0.15);\n",
              "      fill: #174EA6;\n",
              "    }\n",
              "\n",
              "    [theme=dark] .colab-df-convert {\n",
              "      background-color: #3B4455;\n",
              "      fill: #D2E3FC;\n",
              "    }\n",
              "\n",
              "    [theme=dark] .colab-df-convert:hover {\n",
              "      background-color: #434B5C;\n",
              "      box-shadow: 0px 1px 3px 1px rgba(0, 0, 0, 0.15);\n",
              "      filter: drop-shadow(0px 1px 2px rgba(0, 0, 0, 0.3));\n",
              "      fill: #FFFFFF;\n",
              "    }\n",
              "  </style>\n",
              "\n",
              "      <script>\n",
              "        const buttonEl =\n",
              "          document.querySelector('#df-c4c68a96-0379-42e8-80a4-10565c02acad button.colab-df-convert');\n",
              "        buttonEl.style.display =\n",
              "          google.colab.kernel.accessAllowed ? 'block' : 'none';\n",
              "\n",
              "        async function convertToInteractive(key) {\n",
              "          const element = document.querySelector('#df-c4c68a96-0379-42e8-80a4-10565c02acad');\n",
              "          const dataTable =\n",
              "            await google.colab.kernel.invokeFunction('convertToInteractive',\n",
              "                                                     [key], {});\n",
              "          if (!dataTable) return;\n",
              "\n",
              "          const docLinkHtml = 'Like what you see? Visit the ' +\n",
              "            '<a target=\"_blank\" href=https://colab.research.google.com/notebooks/data_table.ipynb>data table notebook</a>'\n",
              "            + ' to learn more about interactive tables.';\n",
              "          element.innerHTML = '';\n",
              "          dataTable['output_type'] = 'display_data';\n",
              "          await google.colab.output.renderOutput(dataTable, element);\n",
              "          const docLink = document.createElement('div');\n",
              "          docLink.innerHTML = docLinkHtml;\n",
              "          element.appendChild(docLink);\n",
              "        }\n",
              "      </script>\n",
              "    </div>\n",
              "  </div>\n",
              "  "
            ],
            "text/plain": [
              "       Data Type\n",
              "id         int64\n",
              "gender    object\n",
              "age        int64\n",
              "topic     object\n",
              "sign      object\n",
              "date      object\n",
              "text      object"
            ]
          },
          "metadata": {},
          "execution_count": 13
        }
      ]
    },
    {
      "cell_type": "markdown",
      "source": [
        "**Data Analysis outcome:**\n",
        "\n",
        "\n",
        "*   *The dataset has 681284 rows of data with 7 variable/attributes of information*\n",
        "*   *There are 40 unique topics where all the ~681K row fall under.*\n",
        "*   *id and age are the 2 numerice variables*\n"
      ],
      "metadata": {
        "id": "iu0-O5f1aUKs"
      }
    },
    {
      "cell_type": "markdown",
      "source": [
        "No missing values identified in the analysis"
      ],
      "metadata": {
        "id": "_czlp471cWdr"
      }
    },
    {
      "cell_type": "code",
      "source": [
        "# Cropping the dataset for computation. Taking the 3K into account for trainning\n",
        "\n",
        "df = df[:3000]\n",
        "df.shape"
      ],
      "metadata": {
        "colab": {
          "base_uri": "https://localhost:8080/"
        },
        "id": "dhY-my5ctuzj",
        "outputId": "6af37c5b-3ac1-46c9-8f88-e2850c043f2d"
      },
      "execution_count": 14,
      "outputs": [
        {
          "output_type": "execute_result",
          "data": {
            "text/plain": [
              "(3000, 7)"
            ]
          },
          "metadata": {},
          "execution_count": 14
        }
      ]
    },
    {
      "cell_type": "code",
      "source": [
        "# Eliminating non english textual data using langdetect library\n",
        "\n",
        "!pip install langdetect\n",
        "from langdetect import detect\n",
        "\n",
        "def detect_english(text):\n",
        "    try:\n",
        "        return detect(text) == 'en'\n",
        "    except:\n",
        "        return False"
      ],
      "metadata": {
        "colab": {
          "base_uri": "https://localhost:8080/"
        },
        "id": "EcZ9rnoVbMly",
        "outputId": "b5f02951-1fd0-49e3-e6dc-6c3c589ec3da"
      },
      "execution_count": 15,
      "outputs": [
        {
          "output_type": "stream",
          "name": "stdout",
          "text": [
            "Collecting langdetect\n",
            "  Downloading langdetect-1.0.9.tar.gz (981 kB)\n",
            "\u001b[?25l\r\u001b[K     |▍                               | 10 kB 22.4 MB/s eta 0:00:01\r\u001b[K     |▊                               | 20 kB 21.0 MB/s eta 0:00:01\r\u001b[K     |█                               | 30 kB 10.3 MB/s eta 0:00:01\r\u001b[K     |█▍                              | 40 kB 8.3 MB/s eta 0:00:01\r\u001b[K     |█▊                              | 51 kB 5.3 MB/s eta 0:00:01\r\u001b[K     |██                              | 61 kB 5.4 MB/s eta 0:00:01\r\u001b[K     |██▍                             | 71 kB 5.4 MB/s eta 0:00:01\r\u001b[K     |██▊                             | 81 kB 6.1 MB/s eta 0:00:01\r\u001b[K     |███                             | 92 kB 6.1 MB/s eta 0:00:01\r\u001b[K     |███▍                            | 102 kB 5.2 MB/s eta 0:00:01\r\u001b[K     |███▊                            | 112 kB 5.2 MB/s eta 0:00:01\r\u001b[K     |████                            | 122 kB 5.2 MB/s eta 0:00:01\r\u001b[K     |████▍                           | 133 kB 5.2 MB/s eta 0:00:01\r\u001b[K     |████▊                           | 143 kB 5.2 MB/s eta 0:00:01\r\u001b[K     |█████                           | 153 kB 5.2 MB/s eta 0:00:01\r\u001b[K     |█████▍                          | 163 kB 5.2 MB/s eta 0:00:01\r\u001b[K     |█████▊                          | 174 kB 5.2 MB/s eta 0:00:01\r\u001b[K     |██████                          | 184 kB 5.2 MB/s eta 0:00:01\r\u001b[K     |██████▍                         | 194 kB 5.2 MB/s eta 0:00:01\r\u001b[K     |██████▊                         | 204 kB 5.2 MB/s eta 0:00:01\r\u001b[K     |███████                         | 215 kB 5.2 MB/s eta 0:00:01\r\u001b[K     |███████▍                        | 225 kB 5.2 MB/s eta 0:00:01\r\u001b[K     |███████▊                        | 235 kB 5.2 MB/s eta 0:00:01\r\u001b[K     |████████                        | 245 kB 5.2 MB/s eta 0:00:01\r\u001b[K     |████████▍                       | 256 kB 5.2 MB/s eta 0:00:01\r\u001b[K     |████████▊                       | 266 kB 5.2 MB/s eta 0:00:01\r\u001b[K     |█████████                       | 276 kB 5.2 MB/s eta 0:00:01\r\u001b[K     |█████████▍                      | 286 kB 5.2 MB/s eta 0:00:01\r\u001b[K     |█████████▊                      | 296 kB 5.2 MB/s eta 0:00:01\r\u001b[K     |██████████                      | 307 kB 5.2 MB/s eta 0:00:01\r\u001b[K     |██████████▍                     | 317 kB 5.2 MB/s eta 0:00:01\r\u001b[K     |██████████▊                     | 327 kB 5.2 MB/s eta 0:00:01\r\u001b[K     |███████████                     | 337 kB 5.2 MB/s eta 0:00:01\r\u001b[K     |███████████▍                    | 348 kB 5.2 MB/s eta 0:00:01\r\u001b[K     |███████████▊                    | 358 kB 5.2 MB/s eta 0:00:01\r\u001b[K     |████████████                    | 368 kB 5.2 MB/s eta 0:00:01\r\u001b[K     |████████████▍                   | 378 kB 5.2 MB/s eta 0:00:01\r\u001b[K     |████████████▊                   | 389 kB 5.2 MB/s eta 0:00:01\r\u001b[K     |█████████████                   | 399 kB 5.2 MB/s eta 0:00:01\r\u001b[K     |█████████████▍                  | 409 kB 5.2 MB/s eta 0:00:01\r\u001b[K     |█████████████▊                  | 419 kB 5.2 MB/s eta 0:00:01\r\u001b[K     |██████████████                  | 430 kB 5.2 MB/s eta 0:00:01\r\u001b[K     |██████████████▍                 | 440 kB 5.2 MB/s eta 0:00:01\r\u001b[K     |██████████████▊                 | 450 kB 5.2 MB/s eta 0:00:01\r\u001b[K     |███████████████                 | 460 kB 5.2 MB/s eta 0:00:01\r\u001b[K     |███████████████▍                | 471 kB 5.2 MB/s eta 0:00:01\r\u001b[K     |███████████████▊                | 481 kB 5.2 MB/s eta 0:00:01\r\u001b[K     |████████████████                | 491 kB 5.2 MB/s eta 0:00:01\r\u001b[K     |████████████████▍               | 501 kB 5.2 MB/s eta 0:00:01\r\u001b[K     |████████████████▊               | 512 kB 5.2 MB/s eta 0:00:01\r\u001b[K     |█████████████████               | 522 kB 5.2 MB/s eta 0:00:01\r\u001b[K     |█████████████████▍              | 532 kB 5.2 MB/s eta 0:00:01\r\u001b[K     |█████████████████▊              | 542 kB 5.2 MB/s eta 0:00:01\r\u001b[K     |██████████████████              | 552 kB 5.2 MB/s eta 0:00:01\r\u001b[K     |██████████████████▍             | 563 kB 5.2 MB/s eta 0:00:01\r\u001b[K     |██████████████████▊             | 573 kB 5.2 MB/s eta 0:00:01\r\u001b[K     |███████████████████             | 583 kB 5.2 MB/s eta 0:00:01\r\u001b[K     |███████████████████▍            | 593 kB 5.2 MB/s eta 0:00:01\r\u001b[K     |███████████████████▊            | 604 kB 5.2 MB/s eta 0:00:01\r\u001b[K     |████████████████████            | 614 kB 5.2 MB/s eta 0:00:01\r\u001b[K     |████████████████████▍           | 624 kB 5.2 MB/s eta 0:00:01\r\u001b[K     |████████████████████▊           | 634 kB 5.2 MB/s eta 0:00:01\r\u001b[K     |█████████████████████           | 645 kB 5.2 MB/s eta 0:00:01\r\u001b[K     |█████████████████████▍          | 655 kB 5.2 MB/s eta 0:00:01\r\u001b[K     |█████████████████████▊          | 665 kB 5.2 MB/s eta 0:00:01\r\u001b[K     |██████████████████████          | 675 kB 5.2 MB/s eta 0:00:01\r\u001b[K     |██████████████████████▍         | 686 kB 5.2 MB/s eta 0:00:01\r\u001b[K     |██████████████████████▊         | 696 kB 5.2 MB/s eta 0:00:01\r\u001b[K     |███████████████████████         | 706 kB 5.2 MB/s eta 0:00:01\r\u001b[K     |███████████████████████▍        | 716 kB 5.2 MB/s eta 0:00:01\r\u001b[K     |███████████████████████▊        | 727 kB 5.2 MB/s eta 0:00:01\r\u001b[K     |████████████████████████        | 737 kB 5.2 MB/s eta 0:00:01\r\u001b[K     |████████████████████████▍       | 747 kB 5.2 MB/s eta 0:00:01\r\u001b[K     |████████████████████████▊       | 757 kB 5.2 MB/s eta 0:00:01\r\u001b[K     |█████████████████████████       | 768 kB 5.2 MB/s eta 0:00:01\r\u001b[K     |█████████████████████████▍      | 778 kB 5.2 MB/s eta 0:00:01\r\u001b[K     |█████████████████████████▊      | 788 kB 5.2 MB/s eta 0:00:01\r\u001b[K     |██████████████████████████      | 798 kB 5.2 MB/s eta 0:00:01\r\u001b[K     |██████████████████████████▍     | 808 kB 5.2 MB/s eta 0:00:01\r\u001b[K     |██████████████████████████▊     | 819 kB 5.2 MB/s eta 0:00:01\r\u001b[K     |███████████████████████████     | 829 kB 5.2 MB/s eta 0:00:01\r\u001b[K     |███████████████████████████▍    | 839 kB 5.2 MB/s eta 0:00:01\r\u001b[K     |███████████████████████████▊    | 849 kB 5.2 MB/s eta 0:00:01\r\u001b[K     |████████████████████████████    | 860 kB 5.2 MB/s eta 0:00:01\r\u001b[K     |████████████████████████████▍   | 870 kB 5.2 MB/s eta 0:00:01\r\u001b[K     |████████████████████████████▊   | 880 kB 5.2 MB/s eta 0:00:01\r\u001b[K     |█████████████████████████████   | 890 kB 5.2 MB/s eta 0:00:01\r\u001b[K     |█████████████████████████████▍  | 901 kB 5.2 MB/s eta 0:00:01\r\u001b[K     |█████████████████████████████▊  | 911 kB 5.2 MB/s eta 0:00:01\r\u001b[K     |██████████████████████████████  | 921 kB 5.2 MB/s eta 0:00:01\r\u001b[K     |██████████████████████████████▍ | 931 kB 5.2 MB/s eta 0:00:01\r\u001b[K     |██████████████████████████████▊ | 942 kB 5.2 MB/s eta 0:00:01\r\u001b[K     |███████████████████████████████ | 952 kB 5.2 MB/s eta 0:00:01\r\u001b[K     |███████████████████████████████▍| 962 kB 5.2 MB/s eta 0:00:01\r\u001b[K     |███████████████████████████████▊| 972 kB 5.2 MB/s eta 0:00:01\r\u001b[K     |████████████████████████████████| 981 kB 5.2 MB/s \n",
            "\u001b[?25hRequirement already satisfied: six in /usr/local/lib/python3.7/dist-packages (from langdetect) (1.15.0)\n",
            "Building wheels for collected packages: langdetect\n",
            "  Building wheel for langdetect (setup.py) ... \u001b[?25l\u001b[?25hdone\n",
            "  Created wheel for langdetect: filename=langdetect-1.0.9-py3-none-any.whl size=993242 sha256=af5b3315a70dae62652c265c8d9e7a60993435d4c033c81e993ad876397a8249\n",
            "  Stored in directory: /root/.cache/pip/wheels/c5/96/8a/f90c59ed25d75e50a8c10a1b1c2d4c402e4dacfa87f3aff36a\n",
            "Successfully built langdetect\n",
            "Installing collected packages: langdetect\n",
            "Successfully installed langdetect-1.0.9\n"
          ]
        }
      ]
    },
    {
      "cell_type": "code",
      "source": [
        "df = df[df['text'].apply(detect_english)]\n",
        "df.shape"
      ],
      "metadata": {
        "colab": {
          "base_uri": "https://localhost:8080/"
        },
        "id": "VTsYFp82q38v",
        "outputId": "730b31f8-beb5-4535-b06e-f08239262a1a"
      },
      "execution_count": 16,
      "outputs": [
        {
          "output_type": "execute_result",
          "data": {
            "text/plain": [
              "(2821, 7)"
            ]
          },
          "metadata": {},
          "execution_count": 16
        }
      ]
    },
    {
      "cell_type": "markdown",
      "source": [
        "**Langdetect has eliminated some of the non-english textual data and out of 5000 we now have 4721 english data for computation.**"
      ],
      "metadata": {
        "id": "DqYrf34VvFJb"
      }
    },
    {
      "cell_type": "markdown",
      "source": [
        "2 . Preprocess unstructured data to make it consumable for model training.\n",
        "\n",
        "  A. Eliminate All special Characters and Numbers\n",
        "\n",
        "  B. Lowercase all textual data\n",
        "\n",
        "  C. Remove all Stopwords\n",
        "\n",
        "  D. Remove all extra white spaces\n"
      ],
      "metadata": {
        "id": "wGoIrYa3QTIH"
      }
    },
    {
      "cell_type": "code",
      "source": [
        "# Eliminating stop words using NLTK and removing white spaces and converting texts to lower case\n",
        "\n",
        "import nltk\n",
        "nltk.download('stopwords')\n",
        "from nltk.corpus import stopwords\n",
        "import string, re\n",
        "\n",
        "stop_words = set(stopwords.words('english'))\n",
        "\n",
        "# Printing all stop words\n",
        "print('Number of stop words : ', len(stop_words))"
      ],
      "metadata": {
        "colab": {
          "base_uri": "https://localhost:8080/"
        },
        "id": "EVOhatae0bSw",
        "outputId": "fa860e4b-cb52-4830-ebd7-2681be069aba"
      },
      "execution_count": 17,
      "outputs": [
        {
          "output_type": "stream",
          "name": "stdout",
          "text": [
            "[nltk_data] Downloading package stopwords to /root/nltk_data...\n",
            "[nltk_data]   Unzipping corpora/stopwords.zip.\n",
            "Number of stop words :  179\n"
          ]
        }
      ]
    },
    {
      "cell_type": "code",
      "source": [
        "#Removing Special characters and numbers\n",
        "df.text = df.text.apply(lambda x: re.sub('[^A-Za-z]+', ' ', x))\n",
        "\n",
        "# lowercase conversion\n",
        "df.text = df.text.apply(lambda x: x.lower())\n",
        "\n",
        "# removing spaces\n",
        "df.text = df.text.apply(lambda x: x.strip())\n",
        "\n",
        "# #Removing stopwords\n",
        "from nltk.corpus import stopwords\n",
        "stopwords = set(stopwords.words('english'))\n",
        "df.text = df.text.apply(lambda x: ' '.join([word for word in x.split() if word not in stopwords]))"
      ],
      "metadata": {
        "id": "-1P3t8i38eEn"
      },
      "execution_count": 18,
      "outputs": []
    },
    {
      "cell_type": "code",
      "source": [
        "df.head(5)"
      ],
      "metadata": {
        "colab": {
          "base_uri": "https://localhost:8080/",
          "height": 206
        },
        "id": "GWOGEbi-7auc",
        "outputId": "b65b68ce-4a9e-4fa6-ef39-fb21e5f55743"
      },
      "execution_count": 19,
      "outputs": [
        {
          "output_type": "execute_result",
          "data": {
            "text/html": [
              "\n",
              "  <div id=\"df-03f6f0bb-825d-49fa-ac61-b149a5deb220\">\n",
              "    <div class=\"colab-df-container\">\n",
              "      <div>\n",
              "<style scoped>\n",
              "    .dataframe tbody tr th:only-of-type {\n",
              "        vertical-align: middle;\n",
              "    }\n",
              "\n",
              "    .dataframe tbody tr th {\n",
              "        vertical-align: top;\n",
              "    }\n",
              "\n",
              "    .dataframe thead th {\n",
              "        text-align: right;\n",
              "    }\n",
              "</style>\n",
              "<table border=\"1\" class=\"dataframe\">\n",
              "  <thead>\n",
              "    <tr style=\"text-align: right;\">\n",
              "      <th></th>\n",
              "      <th>id</th>\n",
              "      <th>gender</th>\n",
              "      <th>age</th>\n",
              "      <th>topic</th>\n",
              "      <th>sign</th>\n",
              "      <th>date</th>\n",
              "      <th>text</th>\n",
              "    </tr>\n",
              "  </thead>\n",
              "  <tbody>\n",
              "    <tr>\n",
              "      <th>0</th>\n",
              "      <td>2059027</td>\n",
              "      <td>male</td>\n",
              "      <td>15</td>\n",
              "      <td>Student</td>\n",
              "      <td>Leo</td>\n",
              "      <td>14,May,2004</td>\n",
              "      <td>info found pages mb pdf files wait untill team...</td>\n",
              "    </tr>\n",
              "    <tr>\n",
              "      <th>1</th>\n",
              "      <td>2059027</td>\n",
              "      <td>male</td>\n",
              "      <td>15</td>\n",
              "      <td>Student</td>\n",
              "      <td>Leo</td>\n",
              "      <td>13,May,2004</td>\n",
              "      <td>team members drewes van der laag urllink mail ...</td>\n",
              "    </tr>\n",
              "    <tr>\n",
              "      <th>2</th>\n",
              "      <td>2059027</td>\n",
              "      <td>male</td>\n",
              "      <td>15</td>\n",
              "      <td>Student</td>\n",
              "      <td>Leo</td>\n",
              "      <td>12,May,2004</td>\n",
              "      <td>het kader van kernfusie op aarde maak je eigen...</td>\n",
              "    </tr>\n",
              "    <tr>\n",
              "      <th>3</th>\n",
              "      <td>2059027</td>\n",
              "      <td>male</td>\n",
              "      <td>15</td>\n",
              "      <td>Student</td>\n",
              "      <td>Leo</td>\n",
              "      <td>12,May,2004</td>\n",
              "      <td>testing testing</td>\n",
              "    </tr>\n",
              "    <tr>\n",
              "      <th>4</th>\n",
              "      <td>3581210</td>\n",
              "      <td>male</td>\n",
              "      <td>33</td>\n",
              "      <td>InvestmentBanking</td>\n",
              "      <td>Aquarius</td>\n",
              "      <td>11,June,2004</td>\n",
              "      <td>thanks yahoo toolbar capture urls popups means...</td>\n",
              "    </tr>\n",
              "  </tbody>\n",
              "</table>\n",
              "</div>\n",
              "      <button class=\"colab-df-convert\" onclick=\"convertToInteractive('df-03f6f0bb-825d-49fa-ac61-b149a5deb220')\"\n",
              "              title=\"Convert this dataframe to an interactive table.\"\n",
              "              style=\"display:none;\">\n",
              "        \n",
              "  <svg xmlns=\"http://www.w3.org/2000/svg\" height=\"24px\"viewBox=\"0 0 24 24\"\n",
              "       width=\"24px\">\n",
              "    <path d=\"M0 0h24v24H0V0z\" fill=\"none\"/>\n",
              "    <path d=\"M18.56 5.44l.94 2.06.94-2.06 2.06-.94-2.06-.94-.94-2.06-.94 2.06-2.06.94zm-11 1L8.5 8.5l.94-2.06 2.06-.94-2.06-.94L8.5 2.5l-.94 2.06-2.06.94zm10 10l.94 2.06.94-2.06 2.06-.94-2.06-.94-.94-2.06-.94 2.06-2.06.94z\"/><path d=\"M17.41 7.96l-1.37-1.37c-.4-.4-.92-.59-1.43-.59-.52 0-1.04.2-1.43.59L10.3 9.45l-7.72 7.72c-.78.78-.78 2.05 0 2.83L4 21.41c.39.39.9.59 1.41.59.51 0 1.02-.2 1.41-.59l7.78-7.78 2.81-2.81c.8-.78.8-2.07 0-2.86zM5.41 20L4 18.59l7.72-7.72 1.47 1.35L5.41 20z\"/>\n",
              "  </svg>\n",
              "      </button>\n",
              "      \n",
              "  <style>\n",
              "    .colab-df-container {\n",
              "      display:flex;\n",
              "      flex-wrap:wrap;\n",
              "      gap: 12px;\n",
              "    }\n",
              "\n",
              "    .colab-df-convert {\n",
              "      background-color: #E8F0FE;\n",
              "      border: none;\n",
              "      border-radius: 50%;\n",
              "      cursor: pointer;\n",
              "      display: none;\n",
              "      fill: #1967D2;\n",
              "      height: 32px;\n",
              "      padding: 0 0 0 0;\n",
              "      width: 32px;\n",
              "    }\n",
              "\n",
              "    .colab-df-convert:hover {\n",
              "      background-color: #E2EBFA;\n",
              "      box-shadow: 0px 1px 2px rgba(60, 64, 67, 0.3), 0px 1px 3px 1px rgba(60, 64, 67, 0.15);\n",
              "      fill: #174EA6;\n",
              "    }\n",
              "\n",
              "    [theme=dark] .colab-df-convert {\n",
              "      background-color: #3B4455;\n",
              "      fill: #D2E3FC;\n",
              "    }\n",
              "\n",
              "    [theme=dark] .colab-df-convert:hover {\n",
              "      background-color: #434B5C;\n",
              "      box-shadow: 0px 1px 3px 1px rgba(0, 0, 0, 0.15);\n",
              "      filter: drop-shadow(0px 1px 2px rgba(0, 0, 0, 0.3));\n",
              "      fill: #FFFFFF;\n",
              "    }\n",
              "  </style>\n",
              "\n",
              "      <script>\n",
              "        const buttonEl =\n",
              "          document.querySelector('#df-03f6f0bb-825d-49fa-ac61-b149a5deb220 button.colab-df-convert');\n",
              "        buttonEl.style.display =\n",
              "          google.colab.kernel.accessAllowed ? 'block' : 'none';\n",
              "\n",
              "        async function convertToInteractive(key) {\n",
              "          const element = document.querySelector('#df-03f6f0bb-825d-49fa-ac61-b149a5deb220');\n",
              "          const dataTable =\n",
              "            await google.colab.kernel.invokeFunction('convertToInteractive',\n",
              "                                                     [key], {});\n",
              "          if (!dataTable) return;\n",
              "\n",
              "          const docLinkHtml = 'Like what you see? Visit the ' +\n",
              "            '<a target=\"_blank\" href=https://colab.research.google.com/notebooks/data_table.ipynb>data table notebook</a>'\n",
              "            + ' to learn more about interactive tables.';\n",
              "          element.innerHTML = '';\n",
              "          dataTable['output_type'] = 'display_data';\n",
              "          await google.colab.output.renderOutput(dataTable, element);\n",
              "          const docLink = document.createElement('div');\n",
              "          docLink.innerHTML = docLinkHtml;\n",
              "          element.appendChild(docLink);\n",
              "        }\n",
              "      </script>\n",
              "    </div>\n",
              "  </div>\n",
              "  "
            ],
            "text/plain": [
              "        id  ...                                               text\n",
              "0  2059027  ...  info found pages mb pdf files wait untill team...\n",
              "1  2059027  ...  team members drewes van der laag urllink mail ...\n",
              "2  2059027  ...  het kader van kernfusie op aarde maak je eigen...\n",
              "3  2059027  ...                                    testing testing\n",
              "4  3581210  ...  thanks yahoo toolbar capture urls popups means...\n",
              "\n",
              "[5 rows x 7 columns]"
            ]
          },
          "metadata": {},
          "execution_count": 19
        }
      ]
    },
    {
      "cell_type": "markdown",
      "source": [
        "3 . Build a base Classification model\n",
        "\n",
        "  A. Create dependent and independent variables\n",
        "    \n",
        "  Hint: Treat ‘topic’ as a Target variable.\n",
        "\n",
        "  B. Split data into train and test.\n",
        "\n",
        "  C. Vectorize data using any one vectorizer.\n",
        "\n",
        "  D. Build a base model for Supervised Learning - Classification.\n",
        "\n",
        "  E. Clearly print Performance Metrics.\n",
        "    \n",
        "  Hint: Accuracy, Precision, Recall, ROC-AUC"
      ],
      "metadata": {
        "id": "esdfujB9RHOn"
      }
    },
    {
      "cell_type": "code",
      "source": [
        "# Merging gender, age,topic and sign variables to make a grouped label for multilabel classification\n",
        "#cropped_df['labels'] = cropped_df['gender'] +',' + cropped_df['age'].astype(str) + ',' + cropped_df['topic'] + ',' + cropped_df['sign']\n",
        "\n",
        "df['labels'] = df.apply(lambda row: [row['gender'], str(row['age']), row['topic'], row['sign']], axis=1)\n",
        "\n",
        "df['labels'].head()"
      ],
      "metadata": {
        "colab": {
          "base_uri": "https://localhost:8080/"
        },
        "id": "7wenjj-rAMny",
        "outputId": "4e0ed43b-cc83-47f3-d8e9-5989e53e388e"
      },
      "execution_count": 20,
      "outputs": [
        {
          "output_type": "execute_result",
          "data": {
            "text/plain": [
              "0                   [male, 15, Student, Leo]\n",
              "1                   [male, 15, Student, Leo]\n",
              "2                   [male, 15, Student, Leo]\n",
              "3                   [male, 15, Student, Leo]\n",
              "4    [male, 33, InvestmentBanking, Aquarius]\n",
              "Name: labels, dtype: object"
            ]
          },
          "metadata": {},
          "execution_count": 20
        }
      ]
    },
    {
      "cell_type": "code",
      "source": [
        "df = df[['text', 'labels']]\n",
        "df.head()"
      ],
      "metadata": {
        "colab": {
          "base_uri": "https://localhost:8080/",
          "height": 206
        },
        "id": "zqPn2KuHAsUs",
        "outputId": "bbcb0522-a802-4e11-b2f6-5accc90a5fa2"
      },
      "execution_count": 21,
      "outputs": [
        {
          "output_type": "execute_result",
          "data": {
            "text/html": [
              "\n",
              "  <div id=\"df-c08200b0-da60-43d2-a1c2-a03328c471a2\">\n",
              "    <div class=\"colab-df-container\">\n",
              "      <div>\n",
              "<style scoped>\n",
              "    .dataframe tbody tr th:only-of-type {\n",
              "        vertical-align: middle;\n",
              "    }\n",
              "\n",
              "    .dataframe tbody tr th {\n",
              "        vertical-align: top;\n",
              "    }\n",
              "\n",
              "    .dataframe thead th {\n",
              "        text-align: right;\n",
              "    }\n",
              "</style>\n",
              "<table border=\"1\" class=\"dataframe\">\n",
              "  <thead>\n",
              "    <tr style=\"text-align: right;\">\n",
              "      <th></th>\n",
              "      <th>text</th>\n",
              "      <th>labels</th>\n",
              "    </tr>\n",
              "  </thead>\n",
              "  <tbody>\n",
              "    <tr>\n",
              "      <th>0</th>\n",
              "      <td>info found pages mb pdf files wait untill team...</td>\n",
              "      <td>[male, 15, Student, Leo]</td>\n",
              "    </tr>\n",
              "    <tr>\n",
              "      <th>1</th>\n",
              "      <td>team members drewes van der laag urllink mail ...</td>\n",
              "      <td>[male, 15, Student, Leo]</td>\n",
              "    </tr>\n",
              "    <tr>\n",
              "      <th>2</th>\n",
              "      <td>het kader van kernfusie op aarde maak je eigen...</td>\n",
              "      <td>[male, 15, Student, Leo]</td>\n",
              "    </tr>\n",
              "    <tr>\n",
              "      <th>3</th>\n",
              "      <td>testing testing</td>\n",
              "      <td>[male, 15, Student, Leo]</td>\n",
              "    </tr>\n",
              "    <tr>\n",
              "      <th>4</th>\n",
              "      <td>thanks yahoo toolbar capture urls popups means...</td>\n",
              "      <td>[male, 33, InvestmentBanking, Aquarius]</td>\n",
              "    </tr>\n",
              "  </tbody>\n",
              "</table>\n",
              "</div>\n",
              "      <button class=\"colab-df-convert\" onclick=\"convertToInteractive('df-c08200b0-da60-43d2-a1c2-a03328c471a2')\"\n",
              "              title=\"Convert this dataframe to an interactive table.\"\n",
              "              style=\"display:none;\">\n",
              "        \n",
              "  <svg xmlns=\"http://www.w3.org/2000/svg\" height=\"24px\"viewBox=\"0 0 24 24\"\n",
              "       width=\"24px\">\n",
              "    <path d=\"M0 0h24v24H0V0z\" fill=\"none\"/>\n",
              "    <path d=\"M18.56 5.44l.94 2.06.94-2.06 2.06-.94-2.06-.94-.94-2.06-.94 2.06-2.06.94zm-11 1L8.5 8.5l.94-2.06 2.06-.94-2.06-.94L8.5 2.5l-.94 2.06-2.06.94zm10 10l.94 2.06.94-2.06 2.06-.94-2.06-.94-.94-2.06-.94 2.06-2.06.94z\"/><path d=\"M17.41 7.96l-1.37-1.37c-.4-.4-.92-.59-1.43-.59-.52 0-1.04.2-1.43.59L10.3 9.45l-7.72 7.72c-.78.78-.78 2.05 0 2.83L4 21.41c.39.39.9.59 1.41.59.51 0 1.02-.2 1.41-.59l7.78-7.78 2.81-2.81c.8-.78.8-2.07 0-2.86zM5.41 20L4 18.59l7.72-7.72 1.47 1.35L5.41 20z\"/>\n",
              "  </svg>\n",
              "      </button>\n",
              "      \n",
              "  <style>\n",
              "    .colab-df-container {\n",
              "      display:flex;\n",
              "      flex-wrap:wrap;\n",
              "      gap: 12px;\n",
              "    }\n",
              "\n",
              "    .colab-df-convert {\n",
              "      background-color: #E8F0FE;\n",
              "      border: none;\n",
              "      border-radius: 50%;\n",
              "      cursor: pointer;\n",
              "      display: none;\n",
              "      fill: #1967D2;\n",
              "      height: 32px;\n",
              "      padding: 0 0 0 0;\n",
              "      width: 32px;\n",
              "    }\n",
              "\n",
              "    .colab-df-convert:hover {\n",
              "      background-color: #E2EBFA;\n",
              "      box-shadow: 0px 1px 2px rgba(60, 64, 67, 0.3), 0px 1px 3px 1px rgba(60, 64, 67, 0.15);\n",
              "      fill: #174EA6;\n",
              "    }\n",
              "\n",
              "    [theme=dark] .colab-df-convert {\n",
              "      background-color: #3B4455;\n",
              "      fill: #D2E3FC;\n",
              "    }\n",
              "\n",
              "    [theme=dark] .colab-df-convert:hover {\n",
              "      background-color: #434B5C;\n",
              "      box-shadow: 0px 1px 3px 1px rgba(0, 0, 0, 0.15);\n",
              "      filter: drop-shadow(0px 1px 2px rgba(0, 0, 0, 0.3));\n",
              "      fill: #FFFFFF;\n",
              "    }\n",
              "  </style>\n",
              "\n",
              "      <script>\n",
              "        const buttonEl =\n",
              "          document.querySelector('#df-c08200b0-da60-43d2-a1c2-a03328c471a2 button.colab-df-convert');\n",
              "        buttonEl.style.display =\n",
              "          google.colab.kernel.accessAllowed ? 'block' : 'none';\n",
              "\n",
              "        async function convertToInteractive(key) {\n",
              "          const element = document.querySelector('#df-c08200b0-da60-43d2-a1c2-a03328c471a2');\n",
              "          const dataTable =\n",
              "            await google.colab.kernel.invokeFunction('convertToInteractive',\n",
              "                                                     [key], {});\n",
              "          if (!dataTable) return;\n",
              "\n",
              "          const docLinkHtml = 'Like what you see? Visit the ' +\n",
              "            '<a target=\"_blank\" href=https://colab.research.google.com/notebooks/data_table.ipynb>data table notebook</a>'\n",
              "            + ' to learn more about interactive tables.';\n",
              "          element.innerHTML = '';\n",
              "          dataTable['output_type'] = 'display_data';\n",
              "          await google.colab.output.renderOutput(dataTable, element);\n",
              "          const docLink = document.createElement('div');\n",
              "          docLink.innerHTML = docLinkHtml;\n",
              "          element.appendChild(docLink);\n",
              "        }\n",
              "      </script>\n",
              "    </div>\n",
              "  </div>\n",
              "  "
            ],
            "text/plain": [
              "                                                text                                   labels\n",
              "0  info found pages mb pdf files wait untill team...                 [male, 15, Student, Leo]\n",
              "1  team members drewes van der laag urllink mail ...                 [male, 15, Student, Leo]\n",
              "2  het kader van kernfusie op aarde maak je eigen...                 [male, 15, Student, Leo]\n",
              "3                                    testing testing                 [male, 15, Student, Leo]\n",
              "4  thanks yahoo toolbar capture urls popups means...  [male, 33, InvestmentBanking, Aquarius]"
            ]
          },
          "metadata": {},
          "execution_count": 21
        }
      ]
    },
    {
      "cell_type": "code",
      "source": [
        "# Train Test split\n",
        "from sklearn.model_selection import train_test_split\n",
        "\n",
        "X_train, X_test, y_train, y_test = train_test_split(df.text.values,df.labels.values,test_size=0.20, random_state=42)\n"
      ],
      "metadata": {
        "id": "jLktf64kBSnz"
      },
      "execution_count": 22,
      "outputs": []
    },
    {
      "cell_type": "code",
      "source": [
        "# Vectorizing using Count Vectorizer\n",
        "from sklearn.feature_extraction.text import CountVectorizer\n",
        "\n",
        "count_vectorizer = CountVectorizer(binary=True, ngram_range=(1, 2))\n",
        "\n",
        "X_train_BOW = count_vectorizer.fit_transform(X_train)\n",
        "X_test_BOW = count_vectorizer.transform(X_test)"
      ],
      "metadata": {
        "id": "WHwPqN-RBxOm"
      },
      "execution_count": 23,
      "outputs": []
    },
    {
      "cell_type": "code",
      "source": [
        "# Printing the length of vocabulary\n",
        "len(count_vectorizer.vocabulary_)"
      ],
      "metadata": {
        "colab": {
          "base_uri": "https://localhost:8080/"
        },
        "id": "PFzqwYP8FtMj",
        "outputId": "e53556c0-8e7a-46fd-f60f-2f09648c9d72"
      },
      "execution_count": 24,
      "outputs": [
        {
          "output_type": "execute_result",
          "data": {
            "text/plain": [
              "176360"
            ]
          },
          "metadata": {},
          "execution_count": 24
        }
      ]
    },
    {
      "cell_type": "code",
      "source": [
        "count_vectorizer.get_feature_names()[:10]"
      ],
      "metadata": {
        "colab": {
          "base_uri": "https://localhost:8080/"
        },
        "id": "CCWXfENN3do6",
        "outputId": "a71213e6-80ab-41e0-f2e5-052a452cc713"
      },
      "execution_count": 25,
      "outputs": [
        {
          "output_type": "execute_result",
          "data": {
            "text/plain": [
              "['aa',\n",
              " 'aa anger',\n",
              " 'aa compared',\n",
              " 'aa nice',\n",
              " 'aaa',\n",
              " 'aaa take',\n",
              " 'aaa travel',\n",
              " 'aaaaaah',\n",
              " 'aaaah',\n",
              " 'aaaah wisdom']"
            ]
          },
          "metadata": {},
          "execution_count": 25
        }
      ]
    },
    {
      "cell_type": "code",
      "source": [
        "# term-document matrix\n",
        "X_train_BOW.toarray()"
      ],
      "metadata": {
        "colab": {
          "base_uri": "https://localhost:8080/"
        },
        "id": "9_-uxQcQ1IrE",
        "outputId": "1920ac01-c0f0-4f8b-8e95-2203c1e720e2"
      },
      "execution_count": 26,
      "outputs": [
        {
          "output_type": "execute_result",
          "data": {
            "text/plain": [
              "array([[0, 0, 0, ..., 0, 0, 0],\n",
              "       [0, 0, 0, ..., 0, 0, 0],\n",
              "       [0, 0, 0, ..., 0, 0, 0],\n",
              "       ...,\n",
              "       [0, 0, 0, ..., 0, 0, 0],\n",
              "       [0, 0, 0, ..., 0, 0, 0],\n",
              "       [0, 0, 0, ..., 0, 0, 0]])"
            ]
          },
          "metadata": {},
          "execution_count": 26
        }
      ]
    },
    {
      "cell_type": "code",
      "source": [
        "label_counts=dict()\n",
        "\n",
        "for labels in df.labels.values:\n",
        "    for label in labels:\n",
        "        if label in label_counts:\n",
        "            label_counts[str(label)]+=1\n",
        "        else:\n",
        "            label_counts[str(label)]=1"
      ],
      "metadata": {
        "id": "xz3860u-1cBE"
      },
      "execution_count": 27,
      "outputs": []
    },
    {
      "cell_type": "code",
      "source": [
        "# Printing the dictionary\n",
        "label_counts"
      ],
      "metadata": {
        "colab": {
          "base_uri": "https://localhost:8080/"
        },
        "id": "NiheewPM1lNx",
        "outputId": "cec39ca4-3218-4721-af44-a20d9f92c8ff"
      },
      "execution_count": 28,
      "outputs": [
        {
          "output_type": "execute_result",
          "data": {
            "text/plain": [
              "{'14': 73,\n",
              " '15': 285,\n",
              " '16': 23,\n",
              " '17': 147,\n",
              " '23': 84,\n",
              " '24': 319,\n",
              " '25': 106,\n",
              " '26': 42,\n",
              " '27': 86,\n",
              " '33': 94,\n",
              " '34': 6,\n",
              " '35': 1476,\n",
              " '37': 19,\n",
              " '39': 30,\n",
              " '41': 14,\n",
              " '44': 3,\n",
              " '45': 14,\n",
              " 'Accounting': 2,\n",
              " 'Aquarius': 273,\n",
              " 'Aries': 1568,\n",
              " 'Arts': 2,\n",
              " 'Banking': 16,\n",
              " 'BusinessServices': 9,\n",
              " 'Cancer': 63,\n",
              " 'Capricorn': 77,\n",
              " 'Communications-Media': 14,\n",
              " 'Education': 116,\n",
              " 'Engineering': 119,\n",
              " 'Gemini': 21,\n",
              " 'Internet': 20,\n",
              " 'InvestmentBanking': 70,\n",
              " 'Leo': 54,\n",
              " 'Libra': 312,\n",
              " 'Museums-Libraries': 2,\n",
              " 'Non-Profit': 45,\n",
              " 'Pisces': 2,\n",
              " 'Sagittarius': 103,\n",
              " 'Science': 31,\n",
              " 'Scorpio': 240,\n",
              " 'Sports-Recreation': 75,\n",
              " 'Student': 387,\n",
              " 'Taurus': 71,\n",
              " 'Technology': 1476,\n",
              " 'Virgo': 37,\n",
              " 'female': 706,\n",
              " 'indUnk': 437,\n",
              " 'male': 2115}"
            ]
          },
          "metadata": {},
          "execution_count": 28
        }
      ]
    },
    {
      "cell_type": "markdown",
      "source": [
        "4 . Improve Performance of model.\n",
        "\n",
        "  A. Experiment with other vectorisers.\n",
        "\n",
        "  B. Build classifier Models using other algorithms than base model.\n",
        "\n",
        "  C. Tune Parameters/Hyperparameters of the model/s.\n",
        "\n",
        "  D. Clearly print Performance Metrics.\n",
        "\n",
        "  Hint: Accuracy, Precision, Recall, ROC-AUC"
      ],
      "metadata": {
        "id": "jRvC3VlNRZZW"
      }
    },
    {
      "cell_type": "code",
      "source": [
        "# Using multi label binarizer\n",
        "\n",
        "from sklearn.preprocessing import MultiLabelBinarizer\n",
        "\n",
        "multiLabelBinarizer = MultiLabelBinarizer(classes=sorted(label_counts.keys()))\n",
        "y_train = multiLabelBinarizer.fit_transform(y_train)\n",
        "y_test = multiLabelBinarizer.transform(y_test)"
      ],
      "metadata": {
        "id": "METR7F1xCy8L"
      },
      "execution_count": 29,
      "outputs": []
    },
    {
      "cell_type": "code",
      "source": [
        "from sklearn.multiclass import OneVsRestClassifier\n",
        "from sklearn.linear_model import LogisticRegression\n",
        "\n",
        "classifier = LogisticRegression(solver='lbfgs')\n",
        "classifier = OneVsRestClassifier(classifier)"
      ],
      "metadata": {
        "id": "CE7gpirmDGaG"
      },
      "execution_count": 30,
      "outputs": []
    },
    {
      "cell_type": "code",
      "source": [
        "#Fitting the classifier\n",
        "\n",
        "classifier.fit(X_train_BOW, y_train)"
      ],
      "metadata": {
        "colab": {
          "base_uri": "https://localhost:8080/"
        },
        "id": "-yrXczNUDZkf",
        "outputId": "cf39c345-0525-4a9e-9ae4-a365ba6aa876"
      },
      "execution_count": 31,
      "outputs": [
        {
          "output_type": "execute_result",
          "data": {
            "text/plain": [
              "OneVsRestClassifier(estimator=LogisticRegression())"
            ]
          },
          "metadata": {},
          "execution_count": 31
        }
      ]
    },
    {
      "cell_type": "code",
      "source": [
        "#Get predicted values\n",
        "predicted_labels = classifier.predict(X_test_BOW)\n",
        "predicted_scores = classifier.decision_function(X_test_BOW)"
      ],
      "metadata": {
        "id": "Dp9DrEf9Do_z"
      },
      "execution_count": 32,
      "outputs": []
    },
    {
      "cell_type": "code",
      "source": [
        "# Get inverse transform values\n",
        "pred_inversed = multiLabelBinarizer.inverse_transform(predicted_labels)\n",
        "y_test_inversed = multiLabelBinarizer.inverse_transform(y_test)"
      ],
      "metadata": {
        "id": "vgpMOZbUDx88"
      },
      "execution_count": 33,
      "outputs": []
    },
    {
      "cell_type": "code",
      "source": [
        "# Printing the actual and predicted values\n",
        "for i in range(10):\n",
        "  print('Text : ', X_test[i])\n",
        "  print('Actual    : ', y_test_inversed[i])\n",
        "  print('Predicted : ', pred_inversed[i])\n",
        "  print('--------------------------')"
      ],
      "metadata": {
        "colab": {
          "base_uri": "https://localhost:8080/"
        },
        "id": "68tOnGP0EGF7",
        "outputId": "5feea1a7-becc-4eef-d736-b3c0d30edb0f"
      },
      "execution_count": 37,
      "outputs": [
        {
          "output_type": "stream",
          "name": "stdout",
          "text": [
            "Text :  trying watch world news stuff okay see little iraqi palestinian kids throwing stuff boys say hell parents mean seriously dude lived mom dad would like hel l oh get rear gear get house usa marching around mr roger neighborhood mk gernades safe play street times like want move cocoa beach want surf miss makes sad today good day reason depressed maybe thinking everything like see people good ya kno well know yeah seriously hot outside curently house crazy may like would comfortable ds comfortable mother driving crazy like oh hey home none friends felt like caring tonight guess speak words mother never ah repeats head going explode swear source constant headache going impossible stay summer hope knows def going living harry bob dan house care whose long need hobby besides online think spend hours end front thing ah mazing think rambled enough god shut help anyone save tonight owe something big promise\n",
            "Actual    :  ('15', 'Libra', 'Student', 'female')\n",
            "Predicted :  ('15', 'Libra', 'Student', 'female')\n",
            "--------------------------\n",
            "Text :  know harmony would happening recess would matter would intent person saying someone happens find someone attractive think may look like generally bother however person seems order hurt feelings would think less person said would definitely think less\n",
            "Actual    :  ('35', 'Aries', 'Technology', 'male')\n",
            "Predicted :  ('35', 'Aries', 'Technology', 'male')\n",
            "--------------------------\n",
            "Text :  call drunki drew try ya really fun http www wagenschenke ch warn ya addictive farthest point meters let know anybody pass point oo strike meters daaa achtung ichli diech\n",
            "Actual    :  ('23', 'Sagittarius', 'indUnk', 'male')\n",
            "Predicted :  ('35', 'Aries', 'Technology', 'male')\n",
            "--------------------------\n",
            "Text :  know anymore really like mean really kidding actually capeable kid like likes also mentality comes getting guts making first step could honestly possible know tomarrow last day school doesnt feel like feels like middle year top things happening shiz going make want explode constantly put literally beyond bet anyone else shoes would nervous break might loose brother never really got know yeah cuz dummy signed army years ago lilly came along put reserves dont know reserves called group already activated scares crap want go kid raise got sister brothers around much still one final go people make much nothing make enough anything worlds crazy place mind decided run pace one center attention fair fight everything got nothing show fighting hard enough going alone rest life care anymore fucking care people care put care put care know time change\n",
            "Actual    :  ('15', 'Libra', 'Student', 'female')\n",
            "Predicted :  ('15', 'Libra', 'Student', 'female')\n",
            "--------------------------\n",
            "Text :  head spins fast moving dialogue blog lookout\n",
            "Actual    :  ('35', 'Aries', 'Technology', 'male')\n",
            "Predicted :  ('35', 'Aries', 'Technology', 'male')\n",
            "--------------------------\n",
            "Text :  love present past future art thou left dreams hopes light shimmer memories new land smashing mirror knew way back ruins past present lay find one love love midst sunless lands wind seems absent vacuum air tainted death home know seems presence smoke shadow tread lifeless waste found charcoal sheet upon wrote july year\n",
            "Actual    :  ('15', 'Aquarius', 'Student', 'male')\n",
            "Predicted :  ('male',)\n",
            "--------------------------\n",
            "Text :  piano head make ya heavy yessirreeeee\n",
            "Actual    :  ('35', 'Aries', 'Technology', 'male')\n",
            "Predicted :  ('35', 'Aries', 'Technology', 'male')\n",
            "--------------------------\n",
            "Text :  got job wooohoooo\n",
            "Actual    :  ('35', 'Aries', 'Technology', 'male')\n",
            "Predicted :  ('35', 'Aries', 'Technology', 'male')\n",
            "--------------------------\n",
            "Text :  weeps laughs maniacally thrashes leather straps chanting know kind depends night\n",
            "Actual    :  ('35', 'Aries', 'Technology', 'male')\n",
            "Predicted :  ('35', 'Aries', 'Technology', 'male')\n",
            "--------------------------\n",
            "Text :  person always gets good job relentless persistent getting job person goes extra mile unnecessary person goes beyond something different unique playing job search methods years found startling pattern people bend traditional methods traditional methods creating resume cover letter filling job application law states must go beyond methods course recommend striving want guarantee get noticed unique saying anything get employer company attention want think create ways show value provide accomplishments results accomplished track record let give examples rarely used spice resume cover letter including testimonial current past employer give testimonial based skills accomplishments telling strike interest one reads resume cover letter come plan nothing rocks company employer boat like person comes plan increase company association revenue productivity take moment brainstorm ideas could improve value company applying well worth time effort included within top follow yes job seekers usually follow remember companies hardly ever hire person days takes weeks fill position guess employer remember time comes hire one individual person multiple exposures always remember human mind stores much easier repetition afraid follow really crush competition career portfolio yes matter industry part create career portfolio even working long portfolio perceive use leverage others create ultimate career portfolio career continue grow prosper financially years come proof evidence shall set free david green author hiring manager distinguish marketing llc want information receive job days less including free lessons urllink write resume cover letter career portfolio tips click http www forcareersuccess com\n",
            "Actual    :  ('24', 'BusinessServices', 'Cancer', 'male')\n",
            "Predicted :  ('Cancer', 'male')\n",
            "--------------------------\n"
          ]
        }
      ]
    },
    {
      "cell_type": "code",
      "source": [
        "#Performance metrics -MICRO/MACRO/WEIGHTED/SAMPLES\n",
        "from sklearn.metrics import accuracy_score\n",
        "from sklearn.metrics import f1_score\n",
        "from sklearn.metrics import average_precision_score\n",
        "from sklearn.metrics import recall_score\n",
        "\n",
        "def print_performance_scores(y_val, predicted, averageType):\n",
        "    print('----------------'+averageType+'--------------------------')\n",
        "    print('Accuracy score: ', accuracy_score(y_val, predicted))\n",
        "    print('F1 score: ', f1_score(y_val, predicted, average=averageType))\n",
        "    print('Average precision score: ', average_precision_score(y_val, predicted, average=averageType))\n",
        "    print('Average recall score: ', recall_score(y_val, predicted, average=averageType))"
      ],
      "metadata": {
        "id": "vNIihvp5FK1n"
      },
      "execution_count": 40,
      "outputs": []
    },
    {
      "cell_type": "code",
      "source": [
        "print_performance_scores(y_test, predicted_labels, 'micro')\n",
        "print_performance_scores(y_test, predicted_labels, 'macro')\n",
        "print_performance_scores(y_test, predicted_labels, 'weighted')\n",
        "print_performance_scores(y_test, predicted_labels, 'samples')"
      ],
      "metadata": {
        "colab": {
          "base_uri": "https://localhost:8080/"
        },
        "id": "p7Zc408DGVj1",
        "outputId": "7f7a2c9b-d518-406c-a135-11352151cd0c"
      },
      "execution_count": 47,
      "outputs": [
        {
          "output_type": "stream",
          "name": "stdout",
          "text": [
            "----------------micro--------------------------\n",
            "Accuracy score:  0.5097345132743363\n",
            "F1 score:  0.7188202949262684\n",
            "Average precision score:  0.556500412969257\n",
            "Average recall score:  0.636283185840708\n",
            "----------------macro--------------------------\n",
            "Accuracy score:  0.5097345132743363\n",
            "F1 score:  0.25402953495908803\n",
            "Average precision score:  nan\n",
            "Average recall score:  0.20387574118628823\n",
            "----------------weighted--------------------------\n",
            "Accuracy score:  0.5097345132743363\n",
            "F1 score:  0.653114818750386\n",
            "Average precision score:  0.5864082927996913\n",
            "Average recall score:  0.636283185840708\n",
            "----------------samples--------------------------\n",
            "Accuracy score:  0.5097345132743363\n",
            "F1 score:  0.6754670599803344\n",
            "Average precision score:  0.647731908617335\n",
            "Average recall score:  0.636283185840708\n"
          ]
        }
      ]
    },
    {
      "cell_type": "markdown",
      "source": [
        "Trying other vectorisers"
      ],
      "metadata": {
        "id": "6ls1dOQ1H6Zl"
      }
    },
    {
      "cell_type": "code",
      "source": [
        "# TF-IDF or Term Frequency–Inverse Document Frequency\n",
        "\n",
        "from sklearn.feature_extraction.text import TfidfVectorizer\n",
        "\n",
        "\n",
        "tfidfVectorizer = CountVectorizer(binary=True, ngram_range=(1, 2))\n",
        "\n",
        "X_train_tfid = tfidfVectorizer.fit_transform(X_train)\n",
        "X_test_tfid = tfidfVectorizer.transform(X_test)\n",
        "\n",
        "# using the same classifier and binarizer used for CountVectorizer\n",
        "\n",
        "classifier.fit(X_train_tfid, y_train)\n",
        "\n",
        "#Get predicted values\n",
        "predicted_labels = classifier.predict(X_test_tfid)\n",
        "predicted_scores = classifier.decision_function(X_test_tfid)\n",
        "\n",
        "# Get inverse transform values\n",
        "pred_inversed = multiLabelBinarizer.inverse_transform(predicted_labels)\n",
        "y_test_inversed = multiLabelBinarizer.inverse_transform(y_test)\n",
        "\n",
        "# Printing the actual and predicted values\n",
        "for i in range(10):\n",
        "  print('Text : ', X_test[i])\n",
        "  print('Actual    : ', y_test_inversed[i])\n",
        "  print('Predicted : ', pred_inversed[i])\n",
        "  print('--------------------------')\n"
      ],
      "metadata": {
        "colab": {
          "base_uri": "https://localhost:8080/"
        },
        "id": "pwojySBcH5tP",
        "outputId": "68d25069-7bb3-4982-d272-013bbb7e5c76"
      },
      "execution_count": 49,
      "outputs": [
        {
          "output_type": "stream",
          "name": "stdout",
          "text": [
            "Text :  trying watch world news stuff okay see little iraqi palestinian kids throwing stuff boys say hell parents mean seriously dude lived mom dad would like hel l oh get rear gear get house usa marching around mr roger neighborhood mk gernades safe play street times like want move cocoa beach want surf miss makes sad today good day reason depressed maybe thinking everything like see people good ya kno well know yeah seriously hot outside curently house crazy may like would comfortable ds comfortable mother driving crazy like oh hey home none friends felt like caring tonight guess speak words mother never ah repeats head going explode swear source constant headache going impossible stay summer hope knows def going living harry bob dan house care whose long need hobby besides online think spend hours end front thing ah mazing think rambled enough god shut help anyone save tonight owe something big promise\n",
            "Actual    :  ('15', 'Libra', 'Student', 'female')\n",
            "Predicted :  ('15', 'Libra', 'Student', 'female')\n",
            "--------------------------\n",
            "Text :  know harmony would happening recess would matter would intent person saying someone happens find someone attractive think may look like generally bother however person seems order hurt feelings would think less person said would definitely think less\n",
            "Actual    :  ('35', 'Aries', 'Technology', 'male')\n",
            "Predicted :  ('35', 'Aries', 'Technology', 'male')\n",
            "--------------------------\n",
            "Text :  call drunki drew try ya really fun http www wagenschenke ch warn ya addictive farthest point meters let know anybody pass point oo strike meters daaa achtung ichli diech\n",
            "Actual    :  ('23', 'Sagittarius', 'indUnk', 'male')\n",
            "Predicted :  ('35', 'Aries', 'Technology', 'male')\n",
            "--------------------------\n",
            "Text :  know anymore really like mean really kidding actually capeable kid like likes also mentality comes getting guts making first step could honestly possible know tomarrow last day school doesnt feel like feels like middle year top things happening shiz going make want explode constantly put literally beyond bet anyone else shoes would nervous break might loose brother never really got know yeah cuz dummy signed army years ago lilly came along put reserves dont know reserves called group already activated scares crap want go kid raise got sister brothers around much still one final go people make much nothing make enough anything worlds crazy place mind decided run pace one center attention fair fight everything got nothing show fighting hard enough going alone rest life care anymore fucking care people care put care put care know time change\n",
            "Actual    :  ('15', 'Libra', 'Student', 'female')\n",
            "Predicted :  ('15', 'Libra', 'Student', 'female')\n",
            "--------------------------\n",
            "Text :  head spins fast moving dialogue blog lookout\n",
            "Actual    :  ('35', 'Aries', 'Technology', 'male')\n",
            "Predicted :  ('35', 'Aries', 'Technology', 'male')\n",
            "--------------------------\n",
            "Text :  love present past future art thou left dreams hopes light shimmer memories new land smashing mirror knew way back ruins past present lay find one love love midst sunless lands wind seems absent vacuum air tainted death home know seems presence smoke shadow tread lifeless waste found charcoal sheet upon wrote july year\n",
            "Actual    :  ('15', 'Aquarius', 'Student', 'male')\n",
            "Predicted :  ('male',)\n",
            "--------------------------\n",
            "Text :  piano head make ya heavy yessirreeeee\n",
            "Actual    :  ('35', 'Aries', 'Technology', 'male')\n",
            "Predicted :  ('35', 'Aries', 'Technology', 'male')\n",
            "--------------------------\n",
            "Text :  got job wooohoooo\n",
            "Actual    :  ('35', 'Aries', 'Technology', 'male')\n",
            "Predicted :  ('35', 'Aries', 'Technology', 'male')\n",
            "--------------------------\n",
            "Text :  weeps laughs maniacally thrashes leather straps chanting know kind depends night\n",
            "Actual    :  ('35', 'Aries', 'Technology', 'male')\n",
            "Predicted :  ('35', 'Aries', 'Technology', 'male')\n",
            "--------------------------\n",
            "Text :  person always gets good job relentless persistent getting job person goes extra mile unnecessary person goes beyond something different unique playing job search methods years found startling pattern people bend traditional methods traditional methods creating resume cover letter filling job application law states must go beyond methods course recommend striving want guarantee get noticed unique saying anything get employer company attention want think create ways show value provide accomplishments results accomplished track record let give examples rarely used spice resume cover letter including testimonial current past employer give testimonial based skills accomplishments telling strike interest one reads resume cover letter come plan nothing rocks company employer boat like person comes plan increase company association revenue productivity take moment brainstorm ideas could improve value company applying well worth time effort included within top follow yes job seekers usually follow remember companies hardly ever hire person days takes weeks fill position guess employer remember time comes hire one individual person multiple exposures always remember human mind stores much easier repetition afraid follow really crush competition career portfolio yes matter industry part create career portfolio even working long portfolio perceive use leverage others create ultimate career portfolio career continue grow prosper financially years come proof evidence shall set free david green author hiring manager distinguish marketing llc want information receive job days less including free lessons urllink write resume cover letter career portfolio tips click http www forcareersuccess com\n",
            "Actual    :  ('24', 'BusinessServices', 'Cancer', 'male')\n",
            "Predicted :  ('Cancer', 'male')\n",
            "--------------------------\n"
          ]
        }
      ]
    },
    {
      "cell_type": "code",
      "source": [
        "# Classification metrics for TF-IDF\n",
        "\n",
        "print_performance_scores(y_test, predicted_labels, 'micro')\n",
        "print_performance_scores(y_test, predicted_labels, 'macro')\n",
        "print_performance_scores(y_test, predicted_labels, 'weighted')\n",
        "print_performance_scores(y_test, predicted_labels, 'samples')"
      ],
      "metadata": {
        "colab": {
          "base_uri": "https://localhost:8080/"
        },
        "id": "PZkfIehwKj6b",
        "outputId": "165263ab-3192-4f04-8bc1-2b478343a63b"
      },
      "execution_count": 50,
      "outputs": [
        {
          "output_type": "stream",
          "name": "stdout",
          "text": [
            "----------------micro--------------------------\n",
            "Accuracy score:  0.5097345132743363\n",
            "F1 score:  0.7188202949262684\n",
            "Average precision score:  0.556500412969257\n",
            "Average recall score:  0.636283185840708\n",
            "----------------macro--------------------------\n",
            "Accuracy score:  0.5097345132743363\n",
            "F1 score:  0.25402953495908803\n",
            "Average precision score:  nan\n",
            "Average recall score:  0.20387574118628823\n",
            "----------------weighted--------------------------\n",
            "Accuracy score:  0.5097345132743363\n",
            "F1 score:  0.653114818750386\n",
            "Average precision score:  0.5864082927996913\n",
            "Average recall score:  0.636283185840708\n",
            "----------------samples--------------------------\n",
            "Accuracy score:  0.5097345132743363\n",
            "F1 score:  0.6754670599803344\n",
            "Average precision score:  0.647731908617335\n",
            "Average recall score:  0.636283185840708\n"
          ]
        }
      ]
    }
  ]
}